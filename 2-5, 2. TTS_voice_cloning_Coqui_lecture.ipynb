{
  "cells": [
    {
      "cell_type": "markdown",
      "metadata": {},
      "source": [
        "## Chapter 2-5, 2강 TTS(텍스트→음성) 기초와 보이스 클로닝 — Coqui TTS\n",
        "\n",
        "- 목표: TTS 기본 파이프라인 이해, 멀티스피커/멀티언어 모델 사용, 간단 보이스 클로닝 실습\n",
        "- 데이터: 짧은 텍스트 문장과 참조 화자 오디오(30~60초)\n",
        "- 규칙(강의용): 시각화는 `matplotlib`만 사용, 불필요한 외부 의존 최소화\n"
      ]
    },
    {
      "cell_type": "markdown",
      "metadata": {},
      "source": [
        "#### 구성\n",
        "- TTS 개요 및 파이프라인\n",
        "- 환경 준비(라이브러리)와 폰트/경고 설정\n",
        "- 데이터 준비: 참조 화자 오디오 전처리(16kHz/모노)\n",
        "- Coqui `xtts_v2`/`YourTTS` 데모: 기본 합성, 보이스 클로닝\n",
        "- 간단 품질 점검 포인트(발음/억양/잡음)\n",
        "\n"
      ]
    },
    {
      "cell_type": "markdown",
      "metadata": {},
      "source": [
        "### 0. 환경 준비 및 라이브러리 임포트\n",
        "\n",
        "- 시각화는 `matplotlib`만 사용합니다.\n",
        "- TTS는 `TTS`(Coqui), 오디오 I/O/변환은 `torchaudio`를 사용합니다.\n",
        "- 한글 폰트와 경고 억제를 설정합니다.\n",
        "\n"
      ]
    },
    {
      "cell_type": "code",
      "execution_count": null,
      "metadata": {},
      "outputs": [],
      "source": [
        "# 선택: 필요한 패키지 설치 (이미 설치되어 있으면 건너뜀)\n",
        "import importlib, sys, subprocess\n",
        "\n",
        "def ensure(pkg: str, pip_name: str | None = None):\n",
        "    name = pkg if pip_name is None else pip_name\n",
        "    try:\n",
        "        importlib.import_module(pkg)\n",
        "    except Exception:\n",
        "        print(f'Installing {name} ...')\n",
        "        subprocess.check_call([sys.executable, '-m', 'pip', 'install', name, '--quiet'])\n",
        "\n",
        "# torchaudio는 플랫폼별 제약이 있어 사전 설치 권장\n",
        "ensure('TTS')  # Coqui TTS\n",
        "try:\n",
        "    import torchaudio\n",
        "except Exception:\n",
        "    print('torchaudio가 필요합니다. 환경에 맞게 설치하세요.')\n",
        "\n"
      ]
    },
    {
      "cell_type": "code",
      "execution_count": null,
      "metadata": {},
      "outputs": [],
      "source": [
        "# -*- coding: utf-8 -*-\n",
        "import os\n",
        "import warnings\n",
        "import numpy as np\n",
        "import matplotlib.pyplot as plt\n",
        "\n",
        "import torch\n",
        "import torchaudio\n",
        "\n",
        "try:\n",
        "    from TTS.api import TTS as COQUI_TTS\n",
        "    _HAS_TTS = True\n",
        "except Exception:\n",
        "    _HAS_TTS = False\n",
        "\n",
        "warnings.filterwarnings(\"ignore\", category=FutureWarning)\n",
        "warnings.filterwarnings(\"ignore\", category=DeprecationWarning)\n",
        "warnings.filterwarnings(\"ignore\", message=r\"Glyph.*missing from font.*\", category=UserWarning)\n",
        "\n",
        "plt.rcParams['font.family'] = 'AppleGothic'\n",
        "plt.rcParams['axes.unicode_minus'] = False\n",
        "\n",
        "DEVICE = 'cuda' if torch.cuda.is_available() else 'cpu'\n",
        "print('Device:', DEVICE)\n",
        "\n"
      ]
    },
    {
      "cell_type": "markdown",
      "metadata": {},
      "source": [
        "### 1. 데이터 준비 및 전처리\n",
        "- 참조 화자 오디오 로딩, 16kHz/모노 정규화\n",
        "- 텍스트 예문 준비\n",
        "\n"
      ]
    },
    {
      "cell_type": "code",
      "execution_count": null,
      "metadata": {},
      "outputs": [],
      "source": [
        "def ensure_mono_16k(path: str) -> str:\n",
        "    \"\"\"\n",
        "    파일을 로드해 16kHz/모노로 저장한 임시 경로를 반환합니다.\n",
        "    \"\"\"\n",
        "    if not os.path.exists(path):\n",
        "        raise FileNotFoundError('참조 화자 오디오를 찾을 수 없습니다: ' + path)\n",
        "    wav, sr = torchaudio.load(path)\n",
        "    if wav.size(0) > 1:\n",
        "        wav = wav.mean(dim=0, keepdim=True)\n",
        "    if sr != 16000:\n",
        "        resampler = torchaudio.transforms.Resample(orig_freq=sr, new_freq=16000)\n",
        "        wav = resampler(wav)\n",
        "        sr = 16000\n",
        "    out_path = 'ref_16k_mono.wav'\n",
        "    torchaudio.save(out_path, wav, sr)\n",
        "    return out_path\n",
        "\n",
        "REF_WAV = 'speaker_ref.wav'  # 수강생 교체 지시\n",
        "SAMPLE_TEXT = '안녕하세요. 오늘은 텍스트를 음성으로 합성해 보겠습니다.'\n",
        "\n"
      ]
    },
    {
      "cell_type": "markdown",
      "metadata": {},
      "source": [
        "### 2. Coqui TTS 데모 — 기본 합성과 보이스 클로닝\n",
        "- `xtts_v2`로 보이스 클로닝(TTS API)\n",
        "- 참조 화자 오디오 1개로도 가능하며, 2~3개면 안정성↑\n",
        "\n"
      ]
    },
    {
      "cell_type": "code",
      "execution_count": null,
      "metadata": {},
      "outputs": [],
      "source": [
        "def synthesize_tts_xtts(text: str, speaker_wavs: list[str], out_path: str = 'tts_out.wav', language: str = 'ko'):\n",
        "    if not _HAS_TTS:\n",
        "        raise ImportError('Coqui TTS가 설치되어 있지 않습니다. 설치: pip install TTS')\n",
        "    tts = COQUI_TTS(\"tts_models/multilingual/multi-dataset/xtts_v2\", gpu=(DEVICE=='cuda'))\n",
        "    tts.tts_to_file(text=text, speaker_wav=speaker_wavs, language=language, file_path=out_path)\n",
        "    return out_path\n",
        "\n",
        "# 데모 (주석 해제 후 사용)\n",
        "# 권장: 매우 짧은 문장으로 먼저 테스트(지연 시간 단축)\n",
        "# try:\n",
        "#     ref = ensure_mono_16k(REF_WAV)\n",
        "#     out_wav = synthesize_tts_xtts('안녕하세요.', [ref], out_path='tts_demo.wav', language='ko')\n",
        "#     print('합성 완료:', out_wav)\n",
        "# except Exception as e:\n",
        "#     print('데모 실행 중 문제:', e)\n",
        "\n"
      ]
    },
    {
      "cell_type": "markdown",
      "metadata": {},
      "source": [
        "### 3. 품질 점검 포인트\n",
        "- 발음 오류: 숫자/기호/영어 혼용 시 텍스트 정규화\n",
        "- 억양/간투어: 문장 분할 및 문장부호 점검\n",
        "- 잡음/메탈릭: 참조 음성의 녹음 품질(무향실/마이크) 영향\n",
        "\n"
      ]
    },
    {
      "cell_type": "markdown",
      "metadata": {},
      "source": [
        "### 4. 마무리 및 과제 제안\n",
        "- 참조 화자 오디오 1~2개로 클로닝 품질 비교\n",
        "- 문장 길이/문장부호/언어를 바꾸며 합성 결과 청취 비교\n",
        "\n"
      ]
    }
  ],
  "metadata": {
    "language_info": {
      "name": "python"
    }
  },
  "nbformat": 4,
  "nbformat_minor": 2
}
