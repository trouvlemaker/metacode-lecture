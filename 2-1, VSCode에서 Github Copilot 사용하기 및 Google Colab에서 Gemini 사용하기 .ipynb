{
 "cells": [
  {
   "cell_type": "code",
   "execution_count": 1,
   "metadata": {},
   "outputs": [
    {
     "name": "stdout",
     "output_type": "stream",
     "text": [
      "현재 날짜: 2025년 10월 09일\n"
     ]
    }
   ],
   "source": [
    "from datetime import datetime\n",
    "\n",
    "# 현재 날짜 출력\n",
    "current_date = datetime.now().strftime(\"%Y년 %m월 %d일\")\n",
    "print(\"현재 날짜:\", current_date)"
   ]
  },
  {
   "cell_type": "code",
   "execution_count": 2,
   "metadata": {},
   "outputs": [
    {
     "name": "stdout",
     "output_type": "stream",
     "text": [
      "현재 시간: 09시 34분 18초\n"
     ]
    }
   ],
   "source": [
    "# 현재 시간 출력\n",
    "current_time = datetime.now().strftime(\"%H시 %M분 %S초\")\n",
    "print(\"현재 시간:\", current_time)"
   ]
  },
  {
   "cell_type": "code",
   "execution_count": 7,
   "metadata": {},
   "outputs": [],
   "source": [
    "# 리스트의 평균값을 계산하는 함수   \n",
    "def calculate_average(numbers):\n",
    "    if not numbers:\n",
    "        return 0\n",
    "    return sum(numbers) / len(numbers)"
   ]
  },
  {
   "cell_type": "code",
   "execution_count": 8,
   "metadata": {},
   "outputs": [
    {
     "data": {
      "text/plain": [
       "30.0"
      ]
     },
     "execution_count": 8,
     "metadata": {},
     "output_type": "execute_result"
    }
   ],
   "source": [
    "calculate_average([10, 20, 30, 40, 50])\n"
   ]
  }
 ],
 "metadata": {
  "kernelspec": {
   "display_name": "Metacode Lecture (Python 3.13)",
   "language": "python",
   "name": "metacode-lecture"
  },
  "language_info": {
   "codemirror_mode": {
    "name": "ipython",
    "version": 3
   },
   "file_extension": ".py",
   "mimetype": "text/x-python",
   "name": "python",
   "nbconvert_exporter": "python",
   "pygments_lexer": "ipython3",
   "version": "3.13.6"
  }
 },
 "nbformat": 4,
 "nbformat_minor": 2
}
