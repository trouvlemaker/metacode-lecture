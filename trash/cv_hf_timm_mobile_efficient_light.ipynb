{
 "cells": [
  {
   "cell_type": "markdown",
   "id": "96f06e21",
   "metadata": {},
   "source": [
    "-------------------------------\n",
    "## 노트북 가이드\n",
    "- 이 노트북은 CPU에서 사전학습 백본으로 임베딩만 추출(Feature Extraction)하여 간단 분류기를 학습/평가합니다.\n",
    "- 지원 백본: MobileNetV3 Small, EfficientNet-B0 (timm+HF Hub)\n",
    "- 모델별 권장 전처리(config)를 자동으로 불러와 일관성을 유지합니다.\n",
    "-------------------------------\n"
   ]
  },
  {
   "cell_type": "code",
   "execution_count": 21,
   "id": "306bd079",
   "metadata": {},
   "outputs": [],
   "source": [
    "# 유틸리티: 시드 고정, 백본/전처리 로더, 가중치 동결\n",
    "import os, random\n",
    "import numpy as np\n",
    "import torch, timm\n",
    "from timm.data import resolve_data_config\n",
    "from timm.data.transforms_factory import create_transform\n",
    "\n",
    "def set_seed(seed: int = 42):\n",
    "    random.seed(seed)\n",
    "    np.random.seed(seed)\n",
    "    torch.manual_seed(seed)\n",
    "    torch.cuda.manual_seed_all(seed)\n",
    "    os.environ[\"PYTHONHASHSEED\"] = str(seed)\n",
    "\n",
    "\n",
    "def load_backbone_and_transform(repo_id: str):\n",
    "    \"\"\"HF Hub repo_id로 timm 모델을 로드하고 해당 전처리 transform/config를 반환.\"\"\"\n",
    "    model = timm.create_model(f'hf_hub:{repo_id}', pretrained=True, num_classes=0)\n",
    "    cfg = resolve_data_config({}, model=model)\n",
    "    transform = create_transform(**cfg)\n",
    "    return model, cfg, transform\n",
    "\n",
    "\n",
    "def freeze_module(module: torch.nn.Module):\n",
    "    for p in module.parameters():\n",
    "        p.requires_grad = False\n",
    "    return module\n",
    "\n"
   ]
  },
  {
   "cell_type": "code",
   "execution_count": 22,
   "id": "e21f5484",
   "metadata": {},
   "outputs": [
    {
     "name": "stdout",
     "output_type": "stream",
     "text": [
      "Using backbone: mobilenet | input size: 224\n"
     ]
    }
   ],
   "source": [
    "# 백본 선택과 전처리 일원화 설정\n",
    "set_seed(42)\n",
    "\n",
    "REPOS = {\n",
    "    'mobilenet': 'timm/mobilenetv3_small_100.lamb_in1k',\n",
    "    'efficient': 'timm/efficientnet_b0.ra_in1k',\n",
    "}\n",
    "\n",
    "BACKBONE = 'mobilenet'  # 'efficient' 로 바꾸면 EfficientNet-B0 사용\n",
    "\n",
    "backbone_model, backbone_cfg, backbone_transform = load_backbone_and_transform(REPOS[BACKBONE])\n",
    "IMG_SIZE = backbone_cfg['input_size'][-1]\n",
    "print(f\"Using backbone: {BACKBONE} | input size: {IMG_SIZE}\")\n",
    "\n",
    "# feature extraction만 할 경우 동결(필요 시 주석 해제)\n",
    "# backbone_model = freeze_module(backbone_model)\n",
    "\n"
   ]
  },
  {
   "cell_type": "code",
   "execution_count": 23,
   "id": "32d9be5e",
   "metadata": {},
   "outputs": [],
   "source": [
    "# 기존 코드와 호환: transform 별칭 제공\n",
    "transform = backbone_transform  # 아래 Dataset/DataLoader 코드가 그대로 동작\n",
    "\n"
   ]
  },
  {
   "cell_type": "code",
   "execution_count": 24,
   "id": "79f1a542",
   "metadata": {},
   "outputs": [],
   "source": [
    "# DataLoader 헬퍼: numpy 배열 + transform 로더 생성\n",
    "from torch.utils.data import DataLoader\n",
    "from PIL import Image\n",
    "\n",
    "class NumpyCIFARDataset(torch.utils.data.Dataset):\n",
    "    def __init__(self, images, labels, transform=None):\n",
    "        self.images = images\n",
    "        self.labels = labels\n",
    "        self.transform = transform\n",
    "    def __len__(self):\n",
    "        return len(self.images)\n",
    "    def __getitem__(self, idx):\n",
    "        img = Image.fromarray(self.images[idx])\n",
    "        if self.transform:\n",
    "            img = self.transform(img)\n",
    "        return img, self.labels[idx]\n",
    "\n",
    "\n",
    "def make_loaders(tr_imgs, tr_lbls, va_imgs, va_lbls, te_imgs, te_lbls, transform, batch_size=16, num_workers=0):\n",
    "    train_ds = NumpyCIFARDataset(tr_imgs, tr_lbls, transform=transform)\n",
    "    val_ds   = NumpyCIFARDataset(va_imgs, va_lbls, transform=transform)\n",
    "    test_ds  = NumpyCIFARDataset(te_imgs, te_lbls, transform=transform)\n",
    "\n",
    "    train_loader = DataLoader(train_ds, batch_size=batch_size, shuffle=True,  num_workers=num_workers)\n",
    "    val_loader   = DataLoader(val_ds,   batch_size=batch_size, shuffle=False, num_workers=num_workers)\n",
    "    test_loader  = DataLoader(test_ds,  batch_size=batch_size, shuffle=False, num_workers=num_workers)\n",
    "    return train_loader, val_loader, test_loader\n",
    "\n"
   ]
  },
  {
   "cell_type": "code",
   "execution_count": 25,
   "id": "e76b77e8",
   "metadata": {},
   "outputs": [],
   "source": [
    "# 임베딩 사전추출 + 간결 학습/평가 루프\n",
    "import torch.nn as nn\n",
    "from tqdm import tqdm\n",
    "\n",
    "@torch.no_grad()\n",
    "def extract_embeddings(model, loader, device='cpu'):\n",
    "    model.eval()\n",
    "    feats, labels = [], []\n",
    "    for x, y in tqdm(loader, desc='Extract', leave=False):\n",
    "        x = x.to(device)\n",
    "        z = model(x)  # timm: num_classes=0 이면 임베딩 반환\n",
    "        feats.append(z.cpu())\n",
    "        labels.append(torch.tensor(y))\n",
    "    feats = torch.cat(feats)\n",
    "    labels = torch.cat(labels)\n",
    "    return feats, labels\n",
    "\n",
    "class LinearClassifier(nn.Module):\n",
    "    def __init__(self, in_dim: int, num_classes: int):\n",
    "        super().__init__()\n",
    "        self.fc = nn.Linear(in_dim, num_classes)\n",
    "    def forward(self, x):\n",
    "        return self.fc(x)\n",
    "\n",
    "\n",
    "def train_simple_linear(train_feats, train_labels, val_feats, val_labels, num_classes, epochs=10, lr=1e-2):\n",
    "    in_dim = train_feats.shape[1]\n",
    "    clf = LinearClassifier(in_dim, num_classes)\n",
    "    opt = torch.optim.AdamW(clf.parameters(), lr=lr)\n",
    "    ce = nn.CrossEntropyLoss()\n",
    "\n",
    "    for ep in range(1, epochs+1):\n",
    "        clf.train()\n",
    "        opt.zero_grad(set_to_none=True)\n",
    "        logits = clf(train_feats)\n",
    "        loss = ce(logits, train_labels)\n",
    "        loss.backward()\n",
    "        opt.step()\n",
    "\n",
    "        clf.eval()\n",
    "        with torch.no_grad():\n",
    "            val_logits = clf(val_feats)\n",
    "            val_acc = (val_logits.argmax(1) == val_labels).float().mean().item()\n",
    "        print(f\"[Ep {ep:02d}] loss={loss.item():.4f} | val_acc={val_acc*100:.2f}%\")\n",
    "    return clf\n",
    "\n",
    "\n",
    "def evaluate(clf, test_feats, test_labels):\n",
    "    clf.eval()\n",
    "    with torch.no_grad():\n",
    "        logits = clf(test_feats)\n",
    "        acc = (logits.argmax(1) == test_labels).float().mean().item()\n",
    "    print(f\"Test Acc: {acc*100:.2f}%\")\n",
    "    return acc\n",
    "\n"
   ]
  },
  {
   "cell_type": "markdown",
   "id": "29e02d9e",
   "metadata": {},
   "source": [
    "-------------------------------\n",
    "## 실행 플로우\n",
    "1) 백본/전처리 설정 → 2) 데이터 준비/로더 → 3) 임베딩 추출 → 4) 선형 분류기 학습/평가\n",
    "- end-to-end 미세조정은 제외(간결/가벼움)\n",
    "-------------------------------\n"
   ]
  },
  {
   "cell_type": "markdown",
   "id": "91c50ffe",
   "metadata": {},
   "source": [
    "# 🚀 가벼운 전이학습: MobileNet/EfficientNet (timm + HF Hub)\n",
    "\n",
    "- **목표**: CPU에서 빠르게 돌릴 수 있는 Feature Extraction 파이프라인\n",
    "- **백본**: MobileNetV3-Small, EfficientNet-B0 (HF Hub 가중치 자동 로드)\n",
    "- **흐름**: 이미지 → 백본(고정) → 임베딩 → 선형 분류기 학습/평가\n",
    "- end-to-end 미세조정은 본 노트북 범위 밖(간결/가벼움 유지)\n"
   ]
  },
  {
   "cell_type": "code",
   "execution_count": 26,
   "id": "e22cb377",
   "metadata": {},
   "outputs": [
    {
     "name": "stdout",
     "output_type": "stream",
     "text": [
      "2.2.2\n",
      "3.12.9 (main, Feb  4 2025, 14:38:38) [Clang 16.0.0 (clang-1600.0.26.6)]\n"
     ]
    }
   ],
   "source": [
    "import torch\n",
    "import sys\n",
    "print(torch.__version__)\n",
    "print(sys.version)"
   ]
  },
  {
   "cell_type": "markdown",
   "id": "0d87e6fd",
   "metadata": {},
   "source": [
    "## 0. 환경 설정"
   ]
  },
  {
   "cell_type": "code",
   "execution_count": null,
   "id": "b6dd5f71",
   "metadata": {},
   "outputs": [
    {
     "name": "stdout",
     "output_type": "stream",
     "text": [
      "Device: cpu\n"
     ]
    }
   ],
   "source": [
    "# (정리됨) 공용 import/시드/장치 설정은 상단 유틸 셀에서 처리되었습니다."
   ]
  },
  {
   "cell_type": "markdown",
   "id": "5d30ab5a",
   "metadata": {},
   "source": [
    "## 1. 데이터 준비 (가벼운 설정 적용)\n",
    "\n",
    "- **Subset**: 10% (CPU에서도 빠르게)\n",
    "- **Batch size**: 16\n",
    "- **Epochs**: 2 (데모용)\n"
   ]
  },
  {
   "cell_type": "code",
   "execution_count": 27,
   "id": "dc99d8df",
   "metadata": {},
   "outputs": [
    {
     "name": "stderr",
     "output_type": "stream",
     "text": [
      "Extract:   0%|          | 0/250 [00:00<?, ?it/s]/var/folders/48/477vrv_n08b185fbd1ycjrqh0000gn/T/ipykernel_9575/2557685214.py:13: UserWarning: To copy construct from a tensor, it is recommended to use sourceTensor.clone().detach() or sourceTensor.clone().detach().requires_grad_(True), rather than torch.tensor(sourceTensor).\n",
      "  labels.append(torch.tensor(y))\n",
      "                                                          \r"
     ]
    },
    {
     "ename": "KeyboardInterrupt",
     "evalue": "",
     "output_type": "error",
     "traceback": [
      "\u001b[31m---------------------------------------------------------------------------\u001b[39m",
      "\u001b[31mKeyboardInterrupt\u001b[39m                         Traceback (most recent call last)",
      "\u001b[36mCell\u001b[39m\u001b[36m \u001b[39m\u001b[32mIn[27]\u001b[39m\u001b[32m, line 7\u001b[39m\n\u001b[32m      5\u001b[39m train_feats, train_labels = extract_embeddings(backbone_model, train_loader)\n\u001b[32m      6\u001b[39m val_feats,   val_labels   = extract_embeddings(backbone_model, val_loader)\n\u001b[32m----> \u001b[39m\u001b[32m7\u001b[39m test_feats,  test_labels  = \u001b[43mextract_embeddings\u001b[49m\u001b[43m(\u001b[49m\u001b[43mbackbone_model\u001b[49m\u001b[43m,\u001b[49m\u001b[43m \u001b[49m\u001b[43mtest_loader\u001b[49m\u001b[43m)\u001b[49m\n\u001b[32m      9\u001b[39m \u001b[38;5;66;03m# 2) 선형 분류기 학습\u001b[39;00m\n\u001b[32m     10\u001b[39m clf = train_simple_linear(train_feats, train_labels, val_feats, val_labels, num_classes=NUM_CLASSES, epochs=\u001b[32m8\u001b[39m, lr=\u001b[32m1e-2\u001b[39m)\n",
      "\u001b[36mFile \u001b[39m\u001b[32m~/Desktop/metacode-lecture/.venv/lib/python3.12/site-packages/torch/utils/_contextlib.py:115\u001b[39m, in \u001b[36mcontext_decorator.<locals>.decorate_context\u001b[39m\u001b[34m(*args, **kwargs)\u001b[39m\n\u001b[32m    112\u001b[39m \u001b[38;5;129m@functools\u001b[39m.wraps(func)\n\u001b[32m    113\u001b[39m \u001b[38;5;28;01mdef\u001b[39;00m\u001b[38;5;250m \u001b[39m\u001b[34mdecorate_context\u001b[39m(*args, **kwargs):\n\u001b[32m    114\u001b[39m     \u001b[38;5;28;01mwith\u001b[39;00m ctx_factory():\n\u001b[32m--> \u001b[39m\u001b[32m115\u001b[39m         \u001b[38;5;28;01mreturn\u001b[39;00m \u001b[43mfunc\u001b[49m\u001b[43m(\u001b[49m\u001b[43m*\u001b[49m\u001b[43margs\u001b[49m\u001b[43m,\u001b[49m\u001b[43m \u001b[49m\u001b[43m*\u001b[49m\u001b[43m*\u001b[49m\u001b[43mkwargs\u001b[49m\u001b[43m)\u001b[49m\n",
      "\u001b[36mCell\u001b[39m\u001b[36m \u001b[39m\u001b[32mIn[25]\u001b[39m\u001b[32m, line 11\u001b[39m, in \u001b[36mextract_embeddings\u001b[39m\u001b[34m(model, loader, device)\u001b[39m\n\u001b[32m      9\u001b[39m \u001b[38;5;28;01mfor\u001b[39;00m x, y \u001b[38;5;129;01min\u001b[39;00m tqdm(loader, desc=\u001b[33m'\u001b[39m\u001b[33mExtract\u001b[39m\u001b[33m'\u001b[39m, leave=\u001b[38;5;28;01mFalse\u001b[39;00m):\n\u001b[32m     10\u001b[39m     x = x.to(device)\n\u001b[32m---> \u001b[39m\u001b[32m11\u001b[39m     z = \u001b[43mmodel\u001b[49m\u001b[43m(\u001b[49m\u001b[43mx\u001b[49m\u001b[43m)\u001b[49m  \u001b[38;5;66;03m# timm: num_classes=0 이면 임베딩 반환\u001b[39;00m\n\u001b[32m     12\u001b[39m     feats.append(z.cpu())\n\u001b[32m     13\u001b[39m     labels.append(torch.tensor(y))\n",
      "\u001b[36mFile \u001b[39m\u001b[32m~/Desktop/metacode-lecture/.venv/lib/python3.12/site-packages/torch/nn/modules/module.py:1511\u001b[39m, in \u001b[36mModule._wrapped_call_impl\u001b[39m\u001b[34m(self, *args, **kwargs)\u001b[39m\n\u001b[32m   1509\u001b[39m     \u001b[38;5;28;01mreturn\u001b[39;00m \u001b[38;5;28mself\u001b[39m._compiled_call_impl(*args, **kwargs)  \u001b[38;5;66;03m# type: ignore[misc]\u001b[39;00m\n\u001b[32m   1510\u001b[39m \u001b[38;5;28;01melse\u001b[39;00m:\n\u001b[32m-> \u001b[39m\u001b[32m1511\u001b[39m     \u001b[38;5;28;01mreturn\u001b[39;00m \u001b[38;5;28;43mself\u001b[39;49m\u001b[43m.\u001b[49m\u001b[43m_call_impl\u001b[49m\u001b[43m(\u001b[49m\u001b[43m*\u001b[49m\u001b[43margs\u001b[49m\u001b[43m,\u001b[49m\u001b[43m \u001b[49m\u001b[43m*\u001b[49m\u001b[43m*\u001b[49m\u001b[43mkwargs\u001b[49m\u001b[43m)\u001b[49m\n",
      "\u001b[36mFile \u001b[39m\u001b[32m~/Desktop/metacode-lecture/.venv/lib/python3.12/site-packages/torch/nn/modules/module.py:1520\u001b[39m, in \u001b[36mModule._call_impl\u001b[39m\u001b[34m(self, *args, **kwargs)\u001b[39m\n\u001b[32m   1515\u001b[39m \u001b[38;5;66;03m# If we don't have any hooks, we want to skip the rest of the logic in\u001b[39;00m\n\u001b[32m   1516\u001b[39m \u001b[38;5;66;03m# this function, and just call forward.\u001b[39;00m\n\u001b[32m   1517\u001b[39m \u001b[38;5;28;01mif\u001b[39;00m \u001b[38;5;129;01mnot\u001b[39;00m (\u001b[38;5;28mself\u001b[39m._backward_hooks \u001b[38;5;129;01mor\u001b[39;00m \u001b[38;5;28mself\u001b[39m._backward_pre_hooks \u001b[38;5;129;01mor\u001b[39;00m \u001b[38;5;28mself\u001b[39m._forward_hooks \u001b[38;5;129;01mor\u001b[39;00m \u001b[38;5;28mself\u001b[39m._forward_pre_hooks\n\u001b[32m   1518\u001b[39m         \u001b[38;5;129;01mor\u001b[39;00m _global_backward_pre_hooks \u001b[38;5;129;01mor\u001b[39;00m _global_backward_hooks\n\u001b[32m   1519\u001b[39m         \u001b[38;5;129;01mor\u001b[39;00m _global_forward_hooks \u001b[38;5;129;01mor\u001b[39;00m _global_forward_pre_hooks):\n\u001b[32m-> \u001b[39m\u001b[32m1520\u001b[39m     \u001b[38;5;28;01mreturn\u001b[39;00m \u001b[43mforward_call\u001b[49m\u001b[43m(\u001b[49m\u001b[43m*\u001b[49m\u001b[43margs\u001b[49m\u001b[43m,\u001b[49m\u001b[43m \u001b[49m\u001b[43m*\u001b[49m\u001b[43m*\u001b[49m\u001b[43mkwargs\u001b[49m\u001b[43m)\u001b[49m\n\u001b[32m   1522\u001b[39m \u001b[38;5;28;01mtry\u001b[39;00m:\n\u001b[32m   1523\u001b[39m     result = \u001b[38;5;28;01mNone\u001b[39;00m\n",
      "\u001b[36mFile \u001b[39m\u001b[32m~/Desktop/metacode-lecture/.venv/lib/python3.12/site-packages/timm/models/mobilenetv3.py:323\u001b[39m, in \u001b[36mMobileNetV3.forward\u001b[39m\u001b[34m(self, x)\u001b[39m\n\u001b[32m    314\u001b[39m \u001b[38;5;28;01mdef\u001b[39;00m\u001b[38;5;250m \u001b[39m\u001b[34mforward\u001b[39m(\u001b[38;5;28mself\u001b[39m, x: torch.Tensor) -> torch.Tensor:\n\u001b[32m    315\u001b[39m \u001b[38;5;250m    \u001b[39m\u001b[33;03m\"\"\"Forward pass.\u001b[39;00m\n\u001b[32m    316\u001b[39m \n\u001b[32m    317\u001b[39m \u001b[33;03m    Args:\u001b[39;00m\n\u001b[32m   (...)\u001b[39m\u001b[32m    321\u001b[39m \u001b[33;03m        Output logits.\u001b[39;00m\n\u001b[32m    322\u001b[39m \u001b[33;03m    \"\"\"\u001b[39;00m\n\u001b[32m--> \u001b[39m\u001b[32m323\u001b[39m     x = \u001b[38;5;28;43mself\u001b[39;49m\u001b[43m.\u001b[49m\u001b[43mforward_features\u001b[49m\u001b[43m(\u001b[49m\u001b[43mx\u001b[49m\u001b[43m)\u001b[49m\n\u001b[32m    324\u001b[39m     x = \u001b[38;5;28mself\u001b[39m.forward_head(x)\n\u001b[32m    325\u001b[39m     \u001b[38;5;28;01mreturn\u001b[39;00m x\n",
      "\u001b[36mFile \u001b[39m\u001b[32m~/Desktop/metacode-lecture/.venv/lib/python3.12/site-packages/timm/models/mobilenetv3.py:290\u001b[39m, in \u001b[36mMobileNetV3.forward_features\u001b[39m\u001b[34m(self, x)\u001b[39m\n\u001b[32m    288\u001b[39m     x = checkpoint_seq(\u001b[38;5;28mself\u001b[39m.blocks, x, flatten=\u001b[38;5;28;01mTrue\u001b[39;00m)\n\u001b[32m    289\u001b[39m \u001b[38;5;28;01melse\u001b[39;00m:\n\u001b[32m--> \u001b[39m\u001b[32m290\u001b[39m     x = \u001b[38;5;28;43mself\u001b[39;49m\u001b[43m.\u001b[49m\u001b[43mblocks\u001b[49m\u001b[43m(\u001b[49m\u001b[43mx\u001b[49m\u001b[43m)\u001b[49m\n\u001b[32m    291\u001b[39m \u001b[38;5;28;01mreturn\u001b[39;00m x\n",
      "\u001b[36mFile \u001b[39m\u001b[32m~/Desktop/metacode-lecture/.venv/lib/python3.12/site-packages/torch/nn/modules/module.py:1511\u001b[39m, in \u001b[36mModule._wrapped_call_impl\u001b[39m\u001b[34m(self, *args, **kwargs)\u001b[39m\n\u001b[32m   1509\u001b[39m     \u001b[38;5;28;01mreturn\u001b[39;00m \u001b[38;5;28mself\u001b[39m._compiled_call_impl(*args, **kwargs)  \u001b[38;5;66;03m# type: ignore[misc]\u001b[39;00m\n\u001b[32m   1510\u001b[39m \u001b[38;5;28;01melse\u001b[39;00m:\n\u001b[32m-> \u001b[39m\u001b[32m1511\u001b[39m     \u001b[38;5;28;01mreturn\u001b[39;00m \u001b[38;5;28;43mself\u001b[39;49m\u001b[43m.\u001b[49m\u001b[43m_call_impl\u001b[49m\u001b[43m(\u001b[49m\u001b[43m*\u001b[49m\u001b[43margs\u001b[49m\u001b[43m,\u001b[49m\u001b[43m \u001b[49m\u001b[43m*\u001b[49m\u001b[43m*\u001b[49m\u001b[43mkwargs\u001b[49m\u001b[43m)\u001b[49m\n",
      "\u001b[36mFile \u001b[39m\u001b[32m~/Desktop/metacode-lecture/.venv/lib/python3.12/site-packages/torch/nn/modules/module.py:1520\u001b[39m, in \u001b[36mModule._call_impl\u001b[39m\u001b[34m(self, *args, **kwargs)\u001b[39m\n\u001b[32m   1515\u001b[39m \u001b[38;5;66;03m# If we don't have any hooks, we want to skip the rest of the logic in\u001b[39;00m\n\u001b[32m   1516\u001b[39m \u001b[38;5;66;03m# this function, and just call forward.\u001b[39;00m\n\u001b[32m   1517\u001b[39m \u001b[38;5;28;01mif\u001b[39;00m \u001b[38;5;129;01mnot\u001b[39;00m (\u001b[38;5;28mself\u001b[39m._backward_hooks \u001b[38;5;129;01mor\u001b[39;00m \u001b[38;5;28mself\u001b[39m._backward_pre_hooks \u001b[38;5;129;01mor\u001b[39;00m \u001b[38;5;28mself\u001b[39m._forward_hooks \u001b[38;5;129;01mor\u001b[39;00m \u001b[38;5;28mself\u001b[39m._forward_pre_hooks\n\u001b[32m   1518\u001b[39m         \u001b[38;5;129;01mor\u001b[39;00m _global_backward_pre_hooks \u001b[38;5;129;01mor\u001b[39;00m _global_backward_hooks\n\u001b[32m   1519\u001b[39m         \u001b[38;5;129;01mor\u001b[39;00m _global_forward_hooks \u001b[38;5;129;01mor\u001b[39;00m _global_forward_pre_hooks):\n\u001b[32m-> \u001b[39m\u001b[32m1520\u001b[39m     \u001b[38;5;28;01mreturn\u001b[39;00m \u001b[43mforward_call\u001b[49m\u001b[43m(\u001b[49m\u001b[43m*\u001b[49m\u001b[43margs\u001b[49m\u001b[43m,\u001b[49m\u001b[43m \u001b[49m\u001b[43m*\u001b[49m\u001b[43m*\u001b[49m\u001b[43mkwargs\u001b[49m\u001b[43m)\u001b[49m\n\u001b[32m   1522\u001b[39m \u001b[38;5;28;01mtry\u001b[39;00m:\n\u001b[32m   1523\u001b[39m     result = \u001b[38;5;28;01mNone\u001b[39;00m\n",
      "\u001b[36mFile \u001b[39m\u001b[32m~/Desktop/metacode-lecture/.venv/lib/python3.12/site-packages/torch/nn/modules/container.py:217\u001b[39m, in \u001b[36mSequential.forward\u001b[39m\u001b[34m(self, input)\u001b[39m\n\u001b[32m    215\u001b[39m \u001b[38;5;28;01mdef\u001b[39;00m\u001b[38;5;250m \u001b[39m\u001b[34mforward\u001b[39m(\u001b[38;5;28mself\u001b[39m, \u001b[38;5;28minput\u001b[39m):\n\u001b[32m    216\u001b[39m     \u001b[38;5;28;01mfor\u001b[39;00m module \u001b[38;5;129;01min\u001b[39;00m \u001b[38;5;28mself\u001b[39m:\n\u001b[32m--> \u001b[39m\u001b[32m217\u001b[39m         \u001b[38;5;28minput\u001b[39m = \u001b[43mmodule\u001b[49m\u001b[43m(\u001b[49m\u001b[38;5;28;43minput\u001b[39;49m\u001b[43m)\u001b[49m\n\u001b[32m    218\u001b[39m     \u001b[38;5;28;01mreturn\u001b[39;00m \u001b[38;5;28minput\u001b[39m\n",
      "\u001b[36mFile \u001b[39m\u001b[32m~/Desktop/metacode-lecture/.venv/lib/python3.12/site-packages/torch/nn/modules/module.py:1511\u001b[39m, in \u001b[36mModule._wrapped_call_impl\u001b[39m\u001b[34m(self, *args, **kwargs)\u001b[39m\n\u001b[32m   1509\u001b[39m     \u001b[38;5;28;01mreturn\u001b[39;00m \u001b[38;5;28mself\u001b[39m._compiled_call_impl(*args, **kwargs)  \u001b[38;5;66;03m# type: ignore[misc]\u001b[39;00m\n\u001b[32m   1510\u001b[39m \u001b[38;5;28;01melse\u001b[39;00m:\n\u001b[32m-> \u001b[39m\u001b[32m1511\u001b[39m     \u001b[38;5;28;01mreturn\u001b[39;00m \u001b[38;5;28;43mself\u001b[39;49m\u001b[43m.\u001b[49m\u001b[43m_call_impl\u001b[49m\u001b[43m(\u001b[49m\u001b[43m*\u001b[49m\u001b[43margs\u001b[49m\u001b[43m,\u001b[49m\u001b[43m \u001b[49m\u001b[43m*\u001b[49m\u001b[43m*\u001b[49m\u001b[43mkwargs\u001b[49m\u001b[43m)\u001b[49m\n",
      "\u001b[36mFile \u001b[39m\u001b[32m~/Desktop/metacode-lecture/.venv/lib/python3.12/site-packages/torch/nn/modules/module.py:1520\u001b[39m, in \u001b[36mModule._call_impl\u001b[39m\u001b[34m(self, *args, **kwargs)\u001b[39m\n\u001b[32m   1515\u001b[39m \u001b[38;5;66;03m# If we don't have any hooks, we want to skip the rest of the logic in\u001b[39;00m\n\u001b[32m   1516\u001b[39m \u001b[38;5;66;03m# this function, and just call forward.\u001b[39;00m\n\u001b[32m   1517\u001b[39m \u001b[38;5;28;01mif\u001b[39;00m \u001b[38;5;129;01mnot\u001b[39;00m (\u001b[38;5;28mself\u001b[39m._backward_hooks \u001b[38;5;129;01mor\u001b[39;00m \u001b[38;5;28mself\u001b[39m._backward_pre_hooks \u001b[38;5;129;01mor\u001b[39;00m \u001b[38;5;28mself\u001b[39m._forward_hooks \u001b[38;5;129;01mor\u001b[39;00m \u001b[38;5;28mself\u001b[39m._forward_pre_hooks\n\u001b[32m   1518\u001b[39m         \u001b[38;5;129;01mor\u001b[39;00m _global_backward_pre_hooks \u001b[38;5;129;01mor\u001b[39;00m _global_backward_hooks\n\u001b[32m   1519\u001b[39m         \u001b[38;5;129;01mor\u001b[39;00m _global_forward_hooks \u001b[38;5;129;01mor\u001b[39;00m _global_forward_pre_hooks):\n\u001b[32m-> \u001b[39m\u001b[32m1520\u001b[39m     \u001b[38;5;28;01mreturn\u001b[39;00m \u001b[43mforward_call\u001b[49m\u001b[43m(\u001b[49m\u001b[43m*\u001b[49m\u001b[43margs\u001b[49m\u001b[43m,\u001b[49m\u001b[43m \u001b[49m\u001b[43m*\u001b[49m\u001b[43m*\u001b[49m\u001b[43mkwargs\u001b[49m\u001b[43m)\u001b[49m\n\u001b[32m   1522\u001b[39m \u001b[38;5;28;01mtry\u001b[39;00m:\n\u001b[32m   1523\u001b[39m     result = \u001b[38;5;28;01mNone\u001b[39;00m\n",
      "\u001b[36mFile \u001b[39m\u001b[32m~/Desktop/metacode-lecture/.venv/lib/python3.12/site-packages/torch/nn/modules/container.py:217\u001b[39m, in \u001b[36mSequential.forward\u001b[39m\u001b[34m(self, input)\u001b[39m\n\u001b[32m    215\u001b[39m \u001b[38;5;28;01mdef\u001b[39;00m\u001b[38;5;250m \u001b[39m\u001b[34mforward\u001b[39m(\u001b[38;5;28mself\u001b[39m, \u001b[38;5;28minput\u001b[39m):\n\u001b[32m    216\u001b[39m     \u001b[38;5;28;01mfor\u001b[39;00m module \u001b[38;5;129;01min\u001b[39;00m \u001b[38;5;28mself\u001b[39m:\n\u001b[32m--> \u001b[39m\u001b[32m217\u001b[39m         \u001b[38;5;28minput\u001b[39m = module(\u001b[38;5;28minput\u001b[39m)\n\u001b[32m    218\u001b[39m     \u001b[38;5;28;01mreturn\u001b[39;00m \u001b[38;5;28minput\u001b[39m\n",
      "\u001b[31mKeyboardInterrupt\u001b[39m: "
     ]
    }
   ],
   "source": [
    "# 임베딩 추출 → 선형 분류기 학습/평가 실행 예시\n",
    "NUM_CLASSES = 10\n",
    "\n",
    "# 1) 임베딩 사전추출\n",
    "train_feats, train_labels = extract_embeddings(backbone_model, train_loader)\n",
    "val_feats,   val_labels   = extract_embeddings(backbone_model, val_loader)\n",
    "test_feats,  test_labels  = extract_embeddings(backbone_model, test_loader)\n",
    "\n",
    "# 2) 선형 분류기 학습\n",
    "clf = train_simple_linear(train_feats, train_labels, val_feats, val_labels, num_classes=NUM_CLASSES, epochs=8, lr=1e-2)\n",
    "\n",
    "# 3) 평가\n",
    "_ = evaluate(clf, test_feats, test_labels)\n"
   ]
  },
  {
   "cell_type": "code",
   "execution_count": null,
   "id": "2f82d705",
   "metadata": {},
   "outputs": [
    {
     "name": "stdout",
     "output_type": "stream",
     "text": [
      "Files already downloaded and verified\n",
      "Files already downloaded and verified\n",
      "Train/Val/Test sizes: 4000 1000 10000\n"
     ]
    }
   ],
   "source": [
    "# 데이터 준비: CIFAR-10 → numpy → subset → train/val split → loaders\n",
    "from torchvision import datasets as tvdatasets\n",
    "from sklearn.model_selection import train_test_split\n",
    "\n",
    "root='./data'\n",
    "train_full = tvdatasets.CIFAR10(root=root, train=True, download=True)\n",
    "test_set   = tvdatasets.CIFAR10(root=root, train=False, download=True)\n",
    "class_names = train_full.classes\n",
    "\n",
    "# torchvision → numpy 변환\n",
    "images_train, labels_train = zip(*[(np.array(img), lab) for img, lab in train_full])\n",
    "images_test,  labels_test  = zip(*[(np.array(img), lab) for img, lab in test_set])\n",
    "\n",
    "# Subset 10%\n",
    "SUBSET=0.1\n",
    "rng = np.random.RandomState(42)\n",
    "sel = rng.permutation(len(images_train))[:int(len(images_train)*SUBSET)]\n",
    "images_train = [images_train[i] for i in sel]\n",
    "labels_train = [labels_train[i] for i in sel]\n",
    "\n",
    "# split\n",
    "tr_imgs, va_imgs, tr_lbls, va_lbls = train_test_split(\n",
    "    images_train, labels_train, test_size=0.2, stratify=labels_train, random_state=42\n",
    ")\n",
    "\n",
    "# loaders\n",
    "BATCH=16\n",
    "train_loader, val_loader, test_loader = make_loaders(\n",
    "    tr_imgs, tr_lbls, va_imgs, va_lbls, images_test, labels_test, transform, batch_size=BATCH, num_workers=0\n",
    ")\n",
    "\n",
    "print('Train/Val/Test sizes:', len(tr_imgs), len(va_imgs), len(images_test))"
   ]
  },
  {
   "cell_type": "markdown",
   "id": "afe697fa",
   "metadata": {},
   "source": [
    "# 🔗 MobileNet → EfficientNet의 계보\n",
    "\n",
    "---\n",
    "\n",
    "##  MobileNetV1 (2017)  \n",
    "- **핵심**: Depthwise separable convolution  \n",
    "- **목적**: 연산량을 줄여 모바일 환경에서도 CNN을 쓸 수 있게 하기  \n",
    "\n",
    "---\n",
    "\n",
    "##  MobileNetV2 (2018)  \n",
    "- **핵심**: Inverted Residual + Linear Bottleneck  \n",
    "- **효과**: 효율성 + 성능 향상  \n",
    "\n",
    "---\n",
    "\n",
    "##  MobileNetV3 (2019)  \n",
    "- **핵심**: Hard-Swish, NAS, SE 모듈 추가  \n",
    "- **목적**: 모바일 환경 최적화 강화  \n",
    "\n",
    "---\n",
    "\n",
    "##  EfficientNet (2019)  \n",
    "- **핵심**: MBConv 블록 (MobileNetV2 기반) + SE  \n",
    "- **새로운 아이디어**: Compound Scaling  \n",
    "  - 너비·깊이·해상도를 **동시에 확장**  \n",
    "- **결과**: 같은 연산량에서 기존 모델보다 훨씬 높은 정확도  \n",
    "\n",
    "---\n",
    "\n",
    "#  MobileNetV3-Small  \n",
    "\n",
    "**핵심 아이디어**: “작고 가볍게, 하지만 빠르고 똑똑하게!”  \n",
    "- 스마트폰이나 임베디드 기기처럼 **연산 능력이 약한 장치**에서도 원활히 동작하도록 설계된 초경량 모델.  \n",
    "- “Small” 버전이라서 특히 더 가볍고, **속도와 배터리 효율**이 중요한 환경에서 유리.  \n",
    "\n",
    "###  주요 설계 요소\n",
    "- **Depthwise + Pointwise Convolution** → 큰 계산을 잘게 쪼개서 연산량 대폭 절감  \n",
    "- **Inverted Residual Block** → 입력 채널을 확장 → 연산 → 축소, 적은 파라미터로도 높은 표현력  \n",
    "- **Squeeze-and-Excitation(SE) 모듈** → 채널별 중요도를 재조정해 정확도 향상  \n",
    "- **Hard-Swish 활성화 함수** → Swish를 근사해 연산량 줄이면서도 성능 유지  \n",
    "- **NAS + NetAdapt** → 모바일 제약(메모리, 속도, 배터리)에 맞춘 자동 최적화  \n",
    "\n",
    " **비유**:  **경차** — 연비 좋고 주차하기 쉽지만 최고 속도는 제한적. 도심 주행에는 최적화된 선택.  \n",
    "\n",
    "---\n",
    "\n",
    "#  EfficientNet-B0  \n",
    "\n",
    "**핵심 아이디어**: “효율적으로 크게 키우자!”  \n",
    "- 깊이만 늘리거나 너비만 넓히는 대신, **너비·깊이·해상도**를 균형 있게 동시에 확장 (**Compound Scaling**).  \n",
    "- EfficientNet 시리즈의 가장 작은 기본형이지만, MobileNet보다 크고 **정확도가 더 높음**.  \n",
    "\n",
    "###  주요 설계 요소\n",
    "- **MBConv 블록** → MobileNetV2 기반 Inverted Residual 구조 + SE 모듈  \n",
    "- **Squeeze-and-Excitation(SE)** → 중요한 특징을 강조해 성능 향상  \n",
    "- **Swish 활성화 함수** → MobileNetV3의 Hard-Swish보다 무겁지만 정확도는 더 높음  \n",
    "- **Compound Scaling** → 깊이·너비·해상도를 함께 확장해 효율 대비 정확도 극대화  \n",
    "\n",
    " **비유**:  **준중형 세단** — 경차보다 힘이 좋고, 연비도 괜찮으며 장거리·고속도로 주행에도 안정적.  \n",
    "\n",
    "---\n",
    "\n",
    "#  요약 비교\n",
    "\n",
    "| 모델 | MobileNetV3-Small | EfficientNet-B0 |\n",
    "|------|------------------|----------------|\n",
    "| **목적** | 초경량, 초저전력 | 성능·효율 균형 |\n",
    "| **주요 기법** | Depthwise+Pointwise, Inverted Residual, SE, Hard-Swish, NAS | MBConv, SE, Swish, Compound Scaling |\n",
    "| **크기/속도** | 더 작고 빠름 | 좀 더 큼 |\n",
    "| **정확도** | 상대적으로 낮음 (~67%) | 더 높음 (~77%) |\n",
    "| **비유** | 경차 (효율 위주) |  준중형 세단 (성능/효율 밸런스) |\n"
   ]
  },
  {
   "cell_type": "markdown",
   "id": "63cf3e8f",
   "metadata": {},
   "source": [
    "## 1.5 MobileNet/EfficientNet 구조 한눈에 보기\n",
    "\n",
    "- MobileNetV3: Depthwise separable conv, inverted residual (MBConv), squeeze-and-excitation(SE), h-swish\n",
    "- EfficientNet: MBConv + SE는 동일하나, compound scaling(너비/깊이/해상도 동시 확장), 더 큰 스테이지 구성\n",
    "- 둘 모두 **가볍고 효율적인 연산 설계**에 초점을 둬 모바일/엣지 환경에 적합\n",
    "\n",
    "아래 코드 셀에서 실제 블록/스테이지 구성을 요약해봅니다.\n"
   ]
  },
  {
   "cell_type": "code",
   "execution_count": null,
   "id": "0926ed9b",
   "metadata": {},
   "outputs": [
    {
     "name": "stdout",
     "output_type": "stream",
     "text": [
      "MobileNet 주요 모듈(상위 25개):\n",
      " - conv_stem: Conv2d\n",
      " - bn1: BatchNormAct2d\n",
      " - blocks: Sequential\n",
      " - blocks.0: Sequential\n",
      " - blocks.0.0: DepthwiseSeparableConv\n",
      " - blocks.0.0.conv_dw: Conv2d\n",
      " - blocks.0.0.bn1: BatchNormAct2d\n",
      " - blocks.0.0.se.conv_reduce: Conv2d\n",
      " - blocks.0.0.se.conv_expand: Conv2d\n",
      " - blocks.0.0.conv_pw: Conv2d\n",
      " - blocks.0.0.bn2: BatchNormAct2d\n",
      " - blocks.1: Sequential\n",
      " - blocks.1.0: InvertedResidual\n",
      " - blocks.1.0.conv_pw: Conv2d\n",
      " - blocks.1.0.bn1: BatchNormAct2d\n",
      " - blocks.1.0.conv_dw: Conv2d\n",
      " - blocks.1.0.bn2: BatchNormAct2d\n",
      " - blocks.1.0.conv_pwl: Conv2d\n",
      " - blocks.1.0.bn3: BatchNormAct2d\n",
      " - blocks.1.1: InvertedResidual\n",
      " - blocks.1.1.conv_pw: Conv2d\n",
      " - blocks.1.1.bn1: BatchNormAct2d\n",
      " - blocks.1.1.conv_dw: Conv2d\n",
      " - blocks.1.1.bn2: BatchNormAct2d\n",
      " - blocks.1.1.conv_pwl: Conv2d\n",
      "\n",
      "EfficientNet 주요 모듈(상위 25개):\n",
      " - conv_stem: Conv2d\n",
      " - bn1: BatchNormAct2d\n",
      " - blocks: Sequential\n",
      " - blocks.0: Sequential\n",
      " - blocks.0.0: DepthwiseSeparableConv\n",
      " - blocks.0.0.conv_dw: Conv2d\n",
      " - blocks.0.0.bn1: BatchNormAct2d\n",
      " - blocks.0.0.se.conv_reduce: Conv2d\n",
      " - blocks.0.0.se.conv_expand: Conv2d\n",
      " - blocks.0.0.conv_pw: Conv2d\n",
      " - blocks.0.0.bn2: BatchNormAct2d\n",
      " - blocks.1: Sequential\n",
      " - blocks.1.0: InvertedResidual\n",
      " - blocks.1.0.conv_pw: Conv2d\n",
      " - blocks.1.0.bn1: BatchNormAct2d\n",
      " - blocks.1.0.conv_dw: Conv2d\n",
      " - blocks.1.0.bn2: BatchNormAct2d\n",
      " - blocks.1.0.se.conv_reduce: Conv2d\n",
      " - blocks.1.0.se.conv_expand: Conv2d\n",
      " - blocks.1.0.conv_pwl: Conv2d\n",
      " - blocks.1.0.bn3: BatchNormAct2d\n",
      " - blocks.1.1: InvertedResidual\n",
      " - blocks.1.1.conv_pw: Conv2d\n",
      " - blocks.1.1.bn1: BatchNormAct2d\n",
      " - blocks.1.1.conv_dw: Conv2d\n"
     ]
    }
   ],
   "source": [
    "# # 내부 구조 요약 유틸\n",
    "# from collections import defaultdict\n",
    "\n",
    "# def summarize_timm_model(model):\n",
    "#     summary = []\n",
    "#     for name, module in model.named_modules():\n",
    "#         if name == '':\n",
    "#             continue\n",
    "#         cls = module.__class__.__name__\n",
    "#         if any(k in cls.lower() for k in ['conv', 'batchnorm', 'bn', 'linear', 'se', 'activation', 'pool', 'mbconv', 'bottleneck', 'inverted', 'depthwise']):\n",
    "#             summary.append((name, cls))\n",
    "#     return summary\n",
    "\n",
    "# # 두 모델을 각각 생성(헤드 num_classes=10으로 동일)\n",
    "# mb_model = timm.create_model(f'hf_hub:{mobilenet_repo}', pretrained=True, num_classes=10)\n",
    "# ef_model = timm.create_model(f'hf_hub:{efficient_repo}', pretrained=True, num_classes=10)\n",
    "\n",
    "# mb_summary = summarize_timm_model(mb_model)\n",
    "# ef_summary = summarize_timm_model(ef_model)\n",
    "\n",
    "# print('MobileNet 주요 모듈(상위 25개):')\n",
    "# for n,c in mb_summary[:25]:\n",
    "#     print(f' - {n}: {c}')\n",
    "# print('\\nEfficientNet 주요 모듈(상위 25개):')\n",
    "# for n,c in ef_summary[:25]:\n",
    "#     print(f' - {n}: {c}')\n"
   ]
  },
  {
   "cell_type": "markdown",
   "id": "cbfd5acc",
   "metadata": {},
   "source": [
    "## 2. 변환(Transform) — 모델별 입력 규격 맞추기"
   ]
  },
  {
   "cell_type": "code",
   "execution_count": null,
   "id": "262d3945",
   "metadata": {},
   "outputs": [
    {
     "name": "stdout",
     "output_type": "stream",
     "text": [
      "Using backbone: mobilenet | input size: 224\n"
     ]
    }
   ],
   "source": [
    "# (정리됨) 백본/전처리는 상단 공용 셀에서 설정됨. 이 셀은 더 이상 필요하지 않습니다."
   ]
  },
  {
   "cell_type": "markdown",
   "id": "033f897d",
   "metadata": {},
   "source": [
    "## 3. 백본 선택 & 전이학습 설정\n",
    "- 아래 스위치로 **MobileNetV3-Small** ↔ **EfficientNet-B0** 를 간단히 교체\n",
    "- **Feature Extraction**: 백본 파라미터를 `requires_grad=False`\n"
   ]
  },
  {
   "cell_type": "code",
   "execution_count": null,
   "id": "af76dacb",
   "metadata": {},
   "outputs": [
    {
     "name": "stdout",
     "output_type": "stream",
     "text": [
      "Using backbone: mobilenet | Trainable params: 601098\n"
     ]
    }
   ],
   "source": [
    "# (정리됨) 본 노트북은 Feature Extraction(임베딩) 후 선형분류기 학습을 기본으로 사용합니다.\n",
    "# end-to-end head 학습 루프는 필요 시 별도 노트북에서 다룹니다."
   ]
  },
  {
   "cell_type": "markdown",
   "id": "a270084d",
   "metadata": {},
   "source": [
    "## 4. 학습 루프 (Feature Extraction, CPU OK)"
   ]
  },
  {
   "cell_type": "code",
   "execution_count": null,
   "id": "9f58d14f",
   "metadata": {},
   "outputs": [
    {
     "name": "stderr",
     "output_type": "stream",
     "text": [
      "/var/folders/48/477vrv_n08b185fbd1ycjrqh0000gn/T/ipykernel_8974/2491700475.py:7: UserWarning: To copy construct from a tensor, it is recommended to use sourceTensor.clone().detach() or sourceTensor.clone().detach().requires_grad_(True), rather than torch.tensor(sourceTensor).\n",
      "  x,y=x.to(device),torch.tensor(y).to(device)\n",
      "/var/folders/48/477vrv_n08b185fbd1ycjrqh0000gn/T/ipykernel_8974/2491700475.py:20: UserWarning: To copy construct from a tensor, it is recommended to use sourceTensor.clone().detach() or sourceTensor.clone().detach().requires_grad_(True), rather than torch.tensor(sourceTensor).\n",
      "  x,y=x.to(device),torch.tensor(y).to(device)\n"
     ]
    },
    {
     "name": "stdout",
     "output_type": "stream",
     "text": [
      "[Ep 1/8] train=0.630/1.394  val=0.738/0.814\n",
      "[Ep 2/8] train=0.761/0.747  val=0.752/0.798\n",
      "[Ep 3/8] train=0.791/0.610  val=0.763/0.743\n",
      "[Ep 4/8] train=0.825/0.499  val=0.752/0.800\n",
      "[Ep 5/8] train=0.858/0.399  val=0.781/0.687\n",
      "[Ep 6/8] train=0.871/0.352  val=0.799/0.658\n",
      "[Ep 7/8] train=0.885/0.328  val=0.773/0.740\n",
      "[Ep 8/8] train=0.900/0.281  val=0.783/0.705\n"
     ]
    }
   ],
   "source": [
    "# (정리됨) end-to-end 학습 루프는 임베딩 기반 간결 루프(extract_embeddings → Linear)로 대체되었습니다."
   ]
  },
  {
   "cell_type": "code",
   "execution_count": null,
   "id": "4a439dca",
   "metadata": {},
   "outputs": [
    {
     "data": {
      "image/png": "[encoded data removed]",
      "text/plain": [
       "<Figure size 600x400 with 1 Axes>"
      ]
     },
     "metadata": {},
     "output_type": "display_data"
    },
    {
     "data": {
      "image/png": "[encoded data removed]",
      "text/plain": [
       "<Figure size 600x400 with 1 Axes>"
      ]
     },
     "metadata": {},
     "output_type": "display_data"
    }
   ],
   "source": [
    "# (정리됨) 위 e2e 학습 곡선은 사용하지 않습니다. 임베딩 기반 선형 분류 실험에서 필요시 새로 작성하세요."
   ]
  },
  {
   "cell_type": "markdown",
   "id": "186a1c49",
   "metadata": {},
   "source": [
    "## 5. 평가 + 혼동행렬"
   ]
  },
  {
   "cell_type": "code",
   "execution_count": null,
   "id": "414b8d86",
   "metadata": {},
   "outputs": [
    {
     "name": "stdout",
     "output_type": "stream",
     "text": [
      "[TEST] Accuracy: 0.7853\n"
     ]
    },
    {
     "data": {
      "image/png": "[encoded data removed]",
      "text/plain": [
       "<Figure size 600x500 with 2 Axes>"
      ]
     },
     "metadata": {},
     "output_type": "display_data"
    },
    {
     "name": "stdout",
     "output_type": "stream",
     "text": [
      "\n",
      "[Classification Report]\n",
      "               precision    recall  f1-score   support\n",
      "\n",
      "    airplane       0.74      0.87      0.80      1000\n",
      "  automobile       0.88      0.88      0.88      1000\n",
      "        bird       0.84      0.71      0.77      1000\n",
      "         cat       0.85      0.37      0.51      1000\n",
      "        deer       0.77      0.79      0.78      1000\n",
      "         dog       0.58      0.88      0.70      1000\n",
      "        frog       0.89      0.80      0.84      1000\n",
      "       horse       0.75      0.87      0.81      1000\n",
      "        ship       0.83      0.86      0.84      1000\n",
      "       truck       0.91      0.84      0.87      1000\n",
      "\n",
      "    accuracy                           0.79     10000\n",
      "   macro avg       0.80      0.79      0.78     10000\n",
      "weighted avg       0.80      0.79      0.78     10000\n",
      "\n"
     ]
    }
   ],
   "source": [
    "# (정리됨) e2e 모델 평가 대신, 아래 임베딩 기반 평가 셀을 사용하세요."
   ]
  },
  {
   "cell_type": "markdown",
   "id": "24f96723",
   "metadata": {},
   "source": [
    "## 6.5 모델 성능 비교 (MobileNet vs EfficientNet)\n",
    "\n",
    "- 동일한 설정(이미 변환/데이터/러닝레이트/에폭)에서 두 백본을 각각 학습\n",
    "- 검증/테스트 정확도를 비교해 어떤 백본이 본 실습 환경에서 더 유리한지 확인\n"
   ]
  },
  {
   "cell_type": "code",
   "execution_count": null,
   "id": "77bd0099",
   "metadata": {},
   "outputs": [
    {
     "name": "stderr",
     "output_type": "stream",
     "text": [
      "/var/folders/48/477vrv_n08b185fbd1ycjrqh0000gn/T/ipykernel_8974/2491700475.py:7: UserWarning: To copy construct from a tensor, it is recommended to use sourceTensor.clone().detach() or sourceTensor.clone().detach().requires_grad_(True), rather than torch.tensor(sourceTensor).\n",
      "  x,y=x.to(device),torch.tensor(y).to(device)\n",
      "/var/folders/48/477vrv_n08b185fbd1ycjrqh0000gn/T/ipykernel_8974/2491700475.py:20: UserWarning: To copy construct from a tensor, it is recommended to use sourceTensor.clone().detach() or sourceTensor.clone().detach().requires_grad_(True), rather than torch.tensor(sourceTensor).\n",
      "  x,y=x.to(device),torch.tensor(y).to(device)\n"
     ]
    },
    {
     "name": "stdout",
     "output_type": "stream",
     "text": [
      "[MN Ep 1/8] train=0.616/1.428  val=0.695/0.956\n",
      "[MN Ep 2/8] train=0.741/0.782  val=0.744/0.832\n",
      "[MN Ep 3/8] train=0.788/0.616  val=0.759/0.763\n",
      "[MN Ep 4/8] train=0.830/0.488  val=0.733/0.903\n",
      "[MN Ep 5/8] train=0.841/0.436  val=0.775/0.741\n",
      "[MN Ep 6/8] train=0.871/0.370  val=0.788/0.687\n",
      "[MN Ep 7/8] train=0.884/0.315  val=0.803/0.730\n",
      "[MN Ep 8/8] train=0.895/0.287  val=0.783/0.773\n",
      "[MN TEST] acc=0.7892\n"
     ]
    },
    {
     "name": "stderr",
     "output_type": "stream",
     "text": [
      "/var/folders/48/477vrv_n08b185fbd1ycjrqh0000gn/T/ipykernel_8974/2491700475.py:7: UserWarning: To copy construct from a tensor, it is recommended to use sourceTensor.clone().detach() or sourceTensor.clone().detach().requires_grad_(True), rather than torch.tensor(sourceTensor).\n",
      "  x,y=x.to(device),torch.tensor(y).to(device)\n",
      "/var/folders/48/477vrv_n08b185fbd1ycjrqh0000gn/T/ipykernel_8974/2491700475.py:20: UserWarning: To copy construct from a tensor, it is recommended to use sourceTensor.clone().detach() or sourceTensor.clone().detach().requires_grad_(True), rather than torch.tensor(sourceTensor).\n",
      "  x,y=x.to(device),torch.tensor(y).to(device)\n"
     ]
    },
    {
     "name": "stdout",
     "output_type": "stream",
     "text": [
      "[EF Ep 1/8] train=0.605/1.350  val=0.701/0.999\n",
      "[EF Ep 2/8] train=0.802/0.586  val=0.726/0.894\n",
      "[EF Ep 3/8] train=0.858/0.399  val=0.730/0.904\n",
      "[EF Ep 4/8] train=0.906/0.276  val=0.735/0.856\n",
      "[EF Ep 5/8] train=0.932/0.202  val=0.750/0.894\n",
      "[EF Ep 6/8] train=0.944/0.173  val=0.744/0.899\n",
      "[EF Ep 7/8] train=0.949/0.153  val=0.761/0.810\n",
      "[EF Ep 8/8] train=0.963/0.117  val=0.762/0.879\n",
      "[EF TEST] acc=0.7732\n",
      "\n",
      "=== 비교 결과 ===\n",
      "MobileNetV3-Small Test Acc: 0.7892\n",
      "EfficientNet-B0     Test Acc: 0.7732\n"
     ]
    }
   ],
   "source": [
    "# (정리됨) 비교 실험(e2e 학습)은 본 노트북 범위를 넘어 임베딩 기반 실험으로 대체합니다.\n"
   ]
  },
  {
   "cell_type": "markdown",
   "id": "82f07a84",
   "metadata": {},
   "source": [
    "## 7. 성능 향상 방안 제안 및 적용\n",
    "\n",
    "- 데이터 증강 강화(RandAugment, RandomErasing)\n",
    "- Label Smoothing Loss\n",
    "- 학습률 스케줄러(cosine)\n",
    "\n",
    "아래는 위 3가지를 적용한 재학습 예시입니다.\n"
   ]
  },
  {
   "cell_type": "code",
   "execution_count": null,
   "id": "0e699cd1",
   "metadata": {},
   "outputs": [
    {
     "name": "stderr",
     "output_type": "stream",
     "text": [
      "/var/folders/48/477vrv_n08b185fbd1ycjrqh0000gn/T/ipykernel_8974/1712934588.py:43: UserWarning: To copy construct from a tensor, it is recommended to use sourceTensor.clone().detach() or sourceTensor.clone().detach().requires_grad_(True), rather than torch.tensor(sourceTensor).\n",
      "  x,y=x.to(device),torch.tensor(y).to(device)\n",
      "/var/folders/48/477vrv_n08b185fbd1ycjrqh0000gn/T/ipykernel_8974/2491700475.py:20: UserWarning: To copy construct from a tensor, it is recommended to use sourceTensor.clone().detach() or sourceTensor.clone().detach().requires_grad_(True), rather than torch.tensor(sourceTensor).\n",
      "  x,y=x.to(device),torch.tensor(y).to(device)\n"
     ]
    },
    {
     "name": "stdout",
     "output_type": "stream",
     "text": [
      "[Strong Ep 1/8] train=0.319 val=0.639\n",
      "[Strong Ep 2/8] train=0.381 val=0.693\n",
      "[Strong Ep 3/8] train=0.410 val=0.689\n",
      "[Strong Ep 4/8] train=0.439 val=0.730\n",
      "[Strong Ep 5/8] train=0.440 val=0.766\n",
      "[Strong Ep 6/8] train=0.467 val=0.782\n",
      "[Strong Ep 7/8] train=0.486 val=0.780\n",
      "[Strong Ep 8/8] train=0.488 val=0.790\n",
      "[Strong TEST] acc=0.7916\n"
     ]
    }
   ],
   "source": [
    "# (정리됨) 고급 증강/스케줄링 e2e 예시는 별도 노트북으로 분리 권장. 본 노트북은 간결 버전 유지.\n"
   ]
  },
  {
   "cell_type": "code",
   "execution_count": null,
   "id": "5a8f2fd3",
   "metadata": {},
   "outputs": [
    {
     "name": "stderr",
     "output_type": "stream",
     "text": [
      "/var/folders/48/477vrv_n08b185fbd1ycjrqh0000gn/T/ipykernel_8974/2999638166.py:44: UserWarning: To copy construct from a tensor, it is recommended to use sourceTensor.clone().detach() or sourceTensor.clone().detach().requires_grad_(True), rather than torch.tensor(sourceTensor).\n",
      "  x,y=x.to(device),torch.tensor(y).to(device)\n",
      "/Users/kimjinseok/Desktop/metacode-lecture/.venv/lib/python3.12/site-packages/torch/optim/lr_scheduler.py:156: UserWarning: The epoch parameter in `scheduler.step()` was not necessary and is being deprecated where possible. Please use `scheduler.step()` to step the scheduler. During the deprecation, if epoch is different from None, the closed form is used instead of the new chainable form, where available. Please open an issue if you are unable to replicate your use case: https://github.com/pytorch/pytorch/issues/new/choose.\n",
      "  warnings.warn(EPOCH_DEPRECATION_WARNING, UserWarning)\n",
      "/var/folders/48/477vrv_n08b185fbd1ycjrqh0000gn/T/ipykernel_8974/2491700475.py:20: UserWarning: To copy construct from a tensor, it is recommended to use sourceTensor.clone().detach() or sourceTensor.clone().detach().requires_grad_(True), rather than torch.tensor(sourceTensor).\n",
      "  x,y=x.to(device),torch.tensor(y).to(device)\n"
     ]
    },
    {
     "name": "stdout",
     "output_type": "stream",
     "text": [
      "[Strong Ep 1/8] train=0.312 val=0.607\n",
      "[Strong Ep 2/8] train=0.407 val=0.683\n",
      "[Strong Ep 3/8] train=0.463 val=0.692\n",
      "[Strong Ep 4/8] train=0.482 val=0.722\n",
      "[Strong Ep 5/8] train=0.509 val=0.756\n",
      "[Strong Ep 6/8] train=0.534 val=0.785\n",
      "[Strong Ep 7/8] train=0.550 val=0.774\n",
      "[Strong Ep 8/8] train=0.554 val=0.789\n"
     ]
    }
   ],
   "source": [
    "# (정리됨) 고급 하이퍼파라미터 실험 셀은 본 노트북에서 제외합니다."
   ]
  },
  {
   "cell_type": "code",
   "execution_count": 67,
   "id": "ddf8f0c9",
   "metadata": {},
   "outputs": [],
   "source": [
    "# # 내부 구조 요약 유틸\n",
    "# from collections import defaultdict\n",
    "\n",
    "# def summarize_timm_model(model):\n",
    "#     summary = []\n",
    "#     for name, module in model.named_modules():\n",
    "#         if name == '':\n",
    "#             continue\n",
    "#         cls = module.__class__.__name__\n",
    "#         if any(k in cls.lower() for k in ['conv', 'batchnorm', 'bn', 'linear', 'se', 'activation', 'pool', 'mbconv', 'bottleneck', 'inverted', 'depthwise']):\n",
    "#             summary.append((name, cls))\n",
    "#     return summary\n",
    "\n",
    "# # 두 모델을 각각 생성(헤드 num_classes=10으로 동일)\n",
    "# mb_model = timm.create_model(f'hf_hub:{mobilenet_repo}', pretrained=True, num_classes=10)\n",
    "# ef_model = timm.create_model(f'hf_hub:{efficient_repo}', pretrained=True, num_classes=10)\n",
    "\n",
    "# mb_summary = summarize_timm_model(mb_model)\n",
    "# ef_summary = summarize_timm_model(ef_model)\n",
    "\n",
    "# print('MobileNet 주요 모듈(상위 25개):')\n",
    "# for n,c in mb_summary[:25]:\n",
    "#     print(f' - {n}: {c}')\n",
    "# print('\\nEfficientNet 주요 모듈(상위 25개):')\n",
    "# for n,c in ef_summary[:25]:\n",
    "#     print(f' - {n}: {c}')\n"
   ]
  },
  {
   "cell_type": "markdown",
   "id": "d55f4ad9",
   "metadata": {},
   "source": [
    "## 8. 요약 및 가이드\n",
    "\n",
    "- MobileNet/EfficientNet 내부 구조와 차이점(MBConv, SE, compound scaling)\n",
    "- 동일 설정에서의 성능 비교: 데이터셋/Subset/에폭에 따라 변동 가능\n",
    "- 간단한 기법만으로도 성능 향상(Label Smoothing, 강한 증강, Cosine)\n",
    "\n",
    "실습 팁\n",
    "- CPU 환경에서는 Feature Extraction 중심으로 빠르게 확인\n",
    "- 시간이 더 있으면 에폭 수만 늘려도 성능이 개선될 수 있음\n"
   ]
  },
  {
   "cell_type": "markdown",
   "id": "2e016b58",
   "metadata": {},
   "source": [
    "\n"
   ]
  },
  {
   "cell_type": "code",
   "execution_count": 68,
   "id": "d46525a5",
   "metadata": {},
   "outputs": [],
   "source": [
    "\n",
    "# import torch\n",
    "# import torch.nn as nn\n",
    "# from torchinfo import summary  # torchinfo가 없으면 torchsummary도 OK\n",
    "# from torchvision.models import mobilenet_v2, efficientnet_b0"
   ]
  },
  {
   "cell_type": "code",
   "execution_count": 69,
   "id": "5ada4aaa",
   "metadata": {},
   "outputs": [],
   "source": [
    "\n",
    "# # Depthwise Separable Conv: (Depthwise) + (Pointwise)\n",
    "# class DepthwiseSeparableConv(nn.Module):\n",
    "#     def __init__(self, in_ch, out_ch, k=3, s=1):\n",
    "#         super().__init__()\n",
    "#         self.depthwise = nn.Conv2d(in_ch, in_ch, k, s, k//2, groups=in_ch, bias=False)\n",
    "#         self.pointwise = nn.Conv2d(in_ch, out_ch, 1, 1, 0, bias=False)\n",
    "#         self.bn = nn.BatchNorm2d(out_ch)\n",
    "#         self.act = nn.ReLU6(inplace=True)\n",
    "#     def forward(self, x):\n",
    "#         x = self.depthwise(x)\n",
    "#         x = self.pointwise(x)\n",
    "#         x = self.bn(x)\n",
    "#         return self.act(x)\n",
    "\n",
    "# # MobileNetV2: Inverted Residual + Linear Bottleneck\n",
    "# class InvertedResidual(nn.Module):\n",
    "#     def __init__(self, in_ch, out_ch, stride, expand_ratio):\n",
    "#         super().__init__()\n",
    "#         hidden_dim = int(round(in_ch * expand_ratio))\n",
    "#         self.use_res_connect = (stride == 1 and in_ch == out_ch)\n",
    "\n",
    "#         layers = []\n",
    "#         if expand_ratio != 1:\n",
    "#             layers += [nn.Conv2d(in_ch, hidden_dim, 1, bias=False),\n",
    "#                        nn.BatchNorm2d(hidden_dim),\n",
    "#                        nn.ReLU6(inplace=True)]\n",
    "#         # depthwise\n",
    "#         layers += [nn.Conv2d(hidden_dim, hidden_dim, 3, stride, 1, groups=hidden_dim, bias=False),\n",
    "#                    nn.BatchNorm2d(hidden_dim),\n",
    "#                    nn.ReLU6(inplace=True)]\n",
    "#         # pointwise-linear (linear bottleneck)\n",
    "#         layers += [nn.Conv2d(hidden_dim, out_ch, 1, bias=False),\n",
    "#                    nn.BatchNorm2d(out_ch)]\n",
    "#         self.conv = nn.Sequential(*layers)\n",
    "\n",
    "#     def forward(self, x):\n",
    "#         out = self.conv(x)\n",
    "#         return x + out if self.use_res_connect else out\n",
    "\n",
    "# # Squeeze-and-Excitation (SE) for EfficientNet\n",
    "# class SE(nn.Module):\n",
    "#     def __init__(self, ch, r=4):\n",
    "#         super().__init__()\n",
    "#         self.fc = nn.Sequential(\n",
    "#             nn.AdaptiveAvgPool2d(1),\n",
    "#             nn.Conv2d(ch, ch // r, 1),\n",
    "#             nn.SiLU(inplace=True),\n",
    "#             nn.Conv2d(ch // r, ch, 1),\n",
    "#             nn.Sigmoid()\n",
    "#         )\n",
    "#     def forward(self, x):\n",
    "#         w = self.fc(x)\n",
    "#         return x * w\n",
    "\n",
    "# # EfficientNet 스타일의 MBConv (SiLU + SE 포함)\n",
    "# class MBConv(nn.Module):\n",
    "#     def __init__(self, in_ch, out_ch, stride=1, expand_ratio=4, k=3, se=True):\n",
    "#         super().__init__()\n",
    "#         hidden = in_ch * expand_ratio\n",
    "#         self.use_res = (stride == 1 and in_ch == out_ch)\n",
    "\n",
    "#         self.expand = nn.Sequential(\n",
    "#             nn.Conv2d(in_ch, hidden, 1, bias=False),\n",
    "#             nn.BatchNorm2d(hidden),\n",
    "#             nn.SiLU(inplace=True),\n",
    "#         ) if expand_ratio != 1 else nn.Identity()\n",
    "\n",
    "#         self.dw = nn.Sequential(\n",
    "#             nn.Conv2d(hidden if expand_ratio!=1 else in_ch,\n",
    "#                       hidden if expand_ratio!=1 else in_ch,\n",
    "#                       k, stride, k//2, groups=(hidden if expand_ratio!=1 else in_ch), bias=False),\n",
    "#             nn.BatchNorm2d(hidden if expand_ratio!=1 else in_ch),\n",
    "#             nn.SiLU(inplace=True),\n",
    "#         )\n",
    "\n",
    "#         ch_mid = hidden if expand_ratio!=1 else in_ch\n",
    "#         self.se = SE(ch_mid) if se else nn.Identity()\n",
    "\n",
    "#         self.pw = nn.Sequential(\n",
    "#             nn.Conv2d(ch_mid, out_ch, 1, bias=False),\n",
    "#             nn.BatchNorm2d(out_ch)\n",
    "#         )\n",
    "\n",
    "#     def forward(self, x):\n",
    "#         identity = x\n",
    "#         x = self.expand(x)\n",
    "#         x = self.dw(x)\n",
    "#         x = self.se(x)\n",
    "#         x = self.pw(x)\n",
    "#         return x + identity if self.use_res else x\n"
   ]
  },
  {
   "cell_type": "code",
   "execution_count": 70,
   "id": "adf8f7a7",
   "metadata": {},
   "outputs": [],
   "source": [
    "\n",
    "# dummy = torch.randn(1, 16, 56, 56)\n",
    "\n",
    "# print(\"=== Depthwise Separable Conv 예시 ===\")\n",
    "# m = DepthwiseSeparableConv(16, 24, k=3, s=2)\n",
    "# print(m)\n",
    "# out = m(dummy)\n",
    "# print(\"Output shape:\", out.shape)\n",
    "\n",
    "# print(\"\\n=== MobileNetV2 InvertedResidual 예시 ===\")\n",
    "# ir = InvertedResidual(16, 24, stride=2, expand_ratio=6)\n",
    "# print(ir)\n",
    "# out = ir(dummy)\n",
    "# print(\"Output shape:\", out.shape)\n",
    "\n",
    "# print(\"\\n=== EfficientNet MBConv 예시 ===\")\n",
    "# mb = MBConv(16, 24, stride=2, expand_ratio=4, k=3, se=True)\n",
    "# print(mb)\n",
    "# out = mb(dummy)\n",
    "# print(\"Output shape:\", out.shape)\n"
   ]
  },
  {
   "cell_type": "code",
   "execution_count": 71,
   "id": "7ea99e04",
   "metadata": {},
   "outputs": [],
   "source": [
    "# mobilenet = mobilenet_v2(weights=None)\n",
    "# efficient = efficientnet_b0(weights=None)\n",
    "\n",
    "# print(\"=== MobileNetV2 summary ===\")\n",
    "# summary(mobilenet, input_size=(1, 3, 224, 224))\n",
    "\n",
    "\n"
   ]
  },
  {
   "cell_type": "code",
   "execution_count": 72,
   "id": "82789d54",
   "metadata": {},
   "outputs": [],
   "source": [
    "\n",
    "# print(\"\\n=== EfficientNet-B0 summary ===\")\n",
    "# summary(efficient, input_size=(1, 3, 224, 224))\n"
   ]
  },
  {
   "cell_type": "code",
   "execution_count": 73,
   "id": "4e9e143b",
   "metadata": {},
   "outputs": [],
   "source": [
    "\n",
    "# shapes = []\n",
    "# def hook(module, inp, out):\n",
    "#     if isinstance(out, torch.Tensor):\n",
    "#         shapes.append((module.__class__.__name__, tuple(out.shape)))\n",
    "\n",
    "# handles = []\n",
    "# for name, module in mobilenet.features._modules.items():\n",
    "#     handles.append(module.register_forward_hook(hook))\n",
    "\n",
    "# _ = mobilenet(torch.randn(1,3,224,224))\n",
    "# for h in handles: h.remove()\n",
    "\n",
    "# print(\"=== MobileNetV2 feature map flow ===\")\n",
    "# for n, s in shapes[:10]:  # 앞쪽 10개만 예시 출력\n",
    "#     print(f\"{n:28s} -> {s}\")\n"
   ]
  },
  {
   "cell_type": "code",
   "execution_count": 74,
   "id": "c17684ce",
   "metadata": {},
   "outputs": [],
   "source": [
    "# import os, subprocess\n",
    "\n",
    "# cands = []\n",
    "# try:\n",
    "#     prefix = subprocess.getoutput(\"brew --prefix graphviz\").strip()\n",
    "#     if prefix and prefix != \"\": cands.append(f\"{prefix}/bin/dot\")\n",
    "# except Exception:\n",
    "#     pass\n",
    "# cands += [\n",
    "#     \"/opt/homebrew/opt/graphviz/bin/dot\",  # Apple Silicon brew prefix\n",
    "#     \"/usr/local/opt/graphviz/bin/dot\",     # Intel brew prefix\n",
    "#     \"/opt/homebrew/bin/dot\",\n",
    "#     \"/usr/local/bin/dot\",\n",
    "# ]\n",
    "\n",
    "# found = None\n",
    "# for p in cands:\n",
    "#     if os.path.exists(p):\n",
    "#         found = p\n",
    "#         break\n",
    "\n",
    "# if found:\n",
    "#     os.environ[\"GRAPHVIZ_DOT\"] = found\n",
    "#     # PATH에도 추가(선택)\n",
    "#     os.environ[\"PATH\"] += os.pathsep + os.path.dirname(found)\n",
    "#     print(\"GRAPHVIZ_DOT =\", os.environ[\"GRAPHVIZ_DOT\"])\n",
    "# else:\n",
    "#     print(\"dot 실행파일을 찾지 못했습니다. 터미널에서 다음을 실행하세요:\")\n",
    "#     print(\"  brew reinstall graphviz\")\n",
    "#     print(\"  brew link graphviz --force\")"
   ]
  },
  {
   "cell_type": "code",
   "execution_count": 75,
   "id": "e90237ed",
   "metadata": {},
   "outputs": [
    {
     "name": "stdout",
     "output_type": "stream",
     "text": [
      "/usr/local/bin/dot\n"
     ]
    }
   ],
   "source": [
    "print(shutil.which(\"dot\"))"
   ]
  },
  {
   "cell_type": "code",
   "execution_count": 76,
   "id": "376308ff",
   "metadata": {},
   "outputs": [],
   "source": [
    "# # 그래프 렌더링 시도 → 실패 시 요약으로 대체\n",
    "# try:\n",
    "#     from torchviz import make_dot\n",
    "#     x = torch.randn(1, 3, IMG_SIZE, IMG_SIZE).to(device)\n",
    "#     model.eval()\n",
    "#     y = model(x)\n",
    "#     dot = make_dot(y, params=dict(list(model.named_parameters())))\n",
    "#     dot.format = \"png\"\n",
    "#     dot.render(\"model_graph\")  # ./model_graph.png 생성\n",
    "#     print(\"Graphviz 렌더링 완료\")\n",
    "# except Exception as e:\n",
    "#     print(\"Graphviz 렌더링 생략:\", e)\n",
    "#     from torchinfo import summary\n",
    "#     summary(model, input_size=(1, 3, IMG_SIZE, IMG_SIZE),\n",
    "#             depth=3, col_names=(\"input_size\",\"output_size\",\"num_params\",\"kernel_size\"))"
   ]
  },
  {
   "cell_type": "code",
   "execution_count": 77,
   "id": "49af40a0",
   "metadata": {},
   "outputs": [],
   "source": [
    "# from torchinfo import summary\n",
    "\n",
    "# # 현재 사용 중인 모델 구조 요약\n",
    "# summary(model, input_size=(1, 3, IMG_SIZE, IMG_SIZE),\n",
    "#         depth=3, col_names=(\"input_size\",\"output_size\",\"num_params\",\"kernel_size\"))"
   ]
  },
  {
   "cell_type": "code",
   "execution_count": 78,
   "id": "ee9d328d",
   "metadata": {},
   "outputs": [],
   "source": [
    "# from torchinfo import summary\n",
    "# mn = timm.create_model(f'hf_hub:{mobilenet_repo}', pretrained=True, num_classes=10).to(device)\n",
    "# ef = timm.create_model(f'hf_hub:{efficient_repo}', pretrained=True, num_classes=10).to(device)\n",
    "\n",
    "# summary(mn, input_size=(1,3,IMG_SIZE,IMG_SIZE), depth=3)\n",
    "# summary(ef, input_size=(1,3,IMG_SIZE,IMG_SIZE), depth=3)"
   ]
  },
  {
   "cell_type": "code",
   "execution_count": 79,
   "id": "930ad879",
   "metadata": {},
   "outputs": [],
   "source": [
    "\n",
    "# from torchviz import make_dot\n",
    "# x = torch.randn(1,3,224,224)\n",
    "# y = mobilenet(x)\n",
    "# dot = make_dot(y, params=dict(list(mobilenet.named_parameters())))\n",
    "# dot.format = 'png'\n",
    "# dot.render('mobilenet_v2_graph')  # ./mobilenet_v2_graph.png\n"
   ]
  },
  {
   "cell_type": "code",
   "execution_count": 80,
   "id": "96922a2d",
   "metadata": {},
   "outputs": [],
   "source": [
    "# # 내부 구조 요약 유틸\n",
    "# from collections import defaultdict\n",
    "\n",
    "# def summarize_timm_model(model):\n",
    "#     summary = []\n",
    "#     for name, module in model.named_modules():\n",
    "#         if name == '':\n",
    "#             continue\n",
    "#         cls = module.__class__.__name__\n",
    "#         if any(k in cls.lower() for k in ['conv', 'batchnorm', 'bn', 'linear', 'se', 'activation', 'pool', 'mbconv', 'bottleneck', 'inverted', 'depthwise']):\n",
    "#             summary.append((name, cls))\n",
    "#     return summary\n",
    "\n",
    "# # 두 모델을 각각 생성(헤드 num_classes=10으로 동일)\n",
    "# mb_model = timm.create_model(f'hf_hub:{mobilenet_repo}', pretrained=True, num_classes=10)\n",
    "# ef_model = timm.create_model(f'hf_hub:{efficient_repo}', pretrained=True, num_classes=10)\n",
    "\n",
    "# mb_summary = summarize_timm_model(mb_model)\n",
    "# ef_summary = summarize_timm_model(ef_model)\n",
    "\n",
    "# print('MobileNet 주요 모듈(상위 25개):')\n",
    "# for n,c in mb_summary[:25]:\n",
    "#     print(f' - {n}: {c}')\n",
    "# print('\\nEfficientNet 주요 모듈(상위 25개):')\n",
    "# for n,c in ef_summary[:25]:\n",
    "#     print(f' - {n}: {c}')\n"
   ]
  },
  {
   "cell_type": "code",
   "execution_count": 81,
   "id": "6580eba0",
   "metadata": {},
   "outputs": [],
   "source": [
    "# # 내부 구조 요약 유틸\n",
    "# from collections import defaultdict\n",
    "\n",
    "# def summarize_timm_model(model):\n",
    "#     summary = []\n",
    "#     for name, module in model.named_modules():\n",
    "#         if name == '':\n",
    "#             continue\n",
    "#         cls = module.__class__.__name__\n",
    "#         if any(k in cls.lower() for k in ['conv', 'batchnorm', 'bn', 'linear', 'se', 'activation', 'pool', 'mbconv', 'bottleneck', 'inverted', 'depthwise']):\n",
    "#             summary.append((name, cls))\n",
    "#     return summary\n",
    "\n",
    "# # 두 모델을 각각 생성(헤드 num_classes=10으로 동일)\n",
    "# mb_model = timm.create_model(f'hf_hub:{mobilenet_repo}', pretrained=True, num_classes=10)\n",
    "# ef_model = timm.create_model(f'hf_hub:{efficient_repo}', pretrained=True, num_classes=10)\n",
    "\n",
    "# mb_summary = summarize_timm_model(mb_model)\n",
    "# ef_summary = summarize_timm_model(ef_model)\n",
    "\n",
    "# print('MobileNet 주요 모듈(상위 25개):')\n",
    "# for n,c in mb_summary[:25]:\n",
    "#     print(f' - {n}: {c}')\n",
    "# print('\\nEfficientNet 주요 모듈(상위 25개):')\n",
    "# for n,c in ef_summary[:25]:\n",
    "#     print(f' - {n}: {c}')\n"
   ]
  }
 ],
 "metadata": {
  "kernelspec": {
   "display_name": "Python (metacode)",
   "language": "python",
   "name": "metacode-lecture"
  },
  "language_info": {
   "codemirror_mode": {
    "name": "ipython",
    "version": 3
   },
   "file_extension": ".py",
   "mimetype": "text/x-python",
   "name": "python",
   "nbconvert_exporter": "python",
   "pygments_lexer": "ipython3",
   "version": "3.12.9"
  }
 },
 "nbformat": 4,
 "nbformat_minor": 5
}
