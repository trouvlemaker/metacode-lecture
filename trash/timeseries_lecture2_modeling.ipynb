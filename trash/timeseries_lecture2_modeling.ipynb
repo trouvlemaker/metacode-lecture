{
 "cells": [
  {
   "cell_type": "markdown",
   "id": "40aa32b6",
   "metadata": {},
   "source": [
    "## 강의 2: 시계열 예측 모델링 (Bike Sharing Demand)\n",
    "\n",
    "- **목표**: 베이스라인 → ML 회귀 → 시계열 회귀 비교, 성능 평가 및 해석\n",
    "- **데이터**: `train_eda_features.parquet` (강의 1 산출물)\n",
    "- **메트릭**: RMSLE(대회 기준), RMSE\n",
    "\n",
    "### 커리큘럼(30분)\n",
    "1. 데이터 로드/스플릿 고정 (3분)\n",
    "2. 베이스라인(단순 이동 평균/라그) (5분)\n",
    "3. 머신러닝 회귀: `RandomForestRegressor` (10분)\n",
    "4. 시계열 특화: `SARIMAX` or `ExponentialSmoothing` 비교 (8분)\n",
    "5. 에러 분석과 피처 중요도/잔차 점검 (4분)\n",
    "\n"
   ]
  },
  {
   "cell_type": "code",
   "execution_count": null,
   "id": "7bfdfdac",
   "metadata": {},
   "outputs": [],
   "source": [
    "import os\n",
    "import numpy as np\n",
    "import pandas as pd\n",
    "from sklearn.metrics import mean_squared_error\n",
    "from sklearn.ensemble import RandomForestRegressor\n",
    "from sklearn.model_selection import TimeSeriesSplit\n",
    "from sklearn.preprocessing import OneHotEncoder\n",
    "from sklearn.compose import ColumnTransformer\n",
    "from sklearn.pipeline import Pipeline\n",
    "import statsmodels.api as sm\n",
    "from statsmodels.tsa.holtwinters import ExponentialSmoothing\n",
    "\n",
    "import warnings\n",
    "warnings.filterwarnings('ignore')\n",
    "\n",
    "DATA_PATH = os.path.join(os.getcwd(), 'bike-sharing-demand', 'train_eda_features.parquet')\n",
    "df = pd.read_parquet(DATA_PATH)\n",
    "\n",
    "# 스플릿 고정\n",
    "split_time = pd.Timestamp('2012-10-01')\n",
    "train = df[df['datetime'] < split_time].copy()\n",
    "valid = df[df['datetime'] >= split_time].copy()\n",
    "\n",
    "# 메트릭들\n",
    "\n",
    "def rmsle(y_true, y_pred):\n",
    "    return np.sqrt(mean_squared_error(np.log1p(y_true), np.log1p(y_pred)))\n",
    "\n",
    "print(train.shape, valid.shape)\n",
    "\n",
    "# 베이스라인 1: 최근 24시간 평균\n",
    "valid_bl = valid.copy()\n",
    "rolling_window = 24\n",
    "train['count_rollmean_24h'] = train['count'].rolling(rolling_window).mean()\n",
    "last_24h_mean = train['count_rollmean_24h'].iloc[-1]\n",
    "valid_bl['pred_baseline_ma24'] = last_24h_mean\n",
    "print('Baseline(MA-24h) RMSLE:', rmsle(valid_bl['count'], valid_bl['pred_baseline_ma24']))\n",
    "\n",
    "# 베이스라인 2: 라그 24시간 값\n",
    "valid_bl['pred_baseline_lag24'] = valid['count_lag_24']\n",
    "print('Baseline(Lag-24h) RMSLE:', rmsle(valid_bl['count'], valid_bl['pred_baseline_lag24'].fillna(valid_bl['pred_baseline_ma24'])))\n",
    "\n",
    "# 머신러닝 피처\n",
    "target = 'count'\n",
    "num_features = ['temp','atemp','humidity','windspeed'] + [c for c in df.columns if c.startswith('count_lag_') or c.startswith('count_roll')]\n",
    "cat_features = ['season','holiday','workingday','weather','year','month','day','hour','weekday']\n",
    "\n",
    "X_train = train[num_features + cat_features]\n",
    "y_train = train[target]\n",
    "X_valid = valid[num_features + cat_features]\n",
    "y_valid = valid[target]\n",
    "\n",
    "preprocess = ColumnTransformer(\n",
    "    transformers=[\n",
    "        ('cat', OneHotEncoder(handle_unknown='ignore'), cat_features),\n",
    "        ('num', 'passthrough', num_features)\n",
    "    ]\n",
    ")\n",
    "\n",
    "rf = RandomForestRegressor(n_estimators=300, max_depth=None, n_jobs=-1, random_state=42)\n",
    "pipe = Pipeline(steps=[('prep', preprocess), ('rf', rf)])\n",
    "\n",
    "pipe.fit(X_train, y_train)\n",
    "valid_pred_rf = pipe.predict(X_valid)\n",
    "print('RandomForest RMSLE:', rmsle(y_valid, valid_pred_rf))\n",
    "\n",
    "# 시계열 특화: ExponentialSmoothing(일단 일별로 집계 후)\n",
    "train_d = train.set_index('datetime')['count'].resample('D').sum()\n",
    "valid_d = valid.set_index('datetime')['count'].resample('D').sum()\n",
    "model_es = ExponentialSmoothing(train_d, trend='add', seasonal='add', seasonal_periods=7)\n",
    "fit_es = model_es.fit()\n",
    "forecast_es = fit_es.forecast(len(valid_d))\n",
    "print('ExponentialSmoothing (일집계) RMSLE:', rmsle(valid_d.values, np.maximum(forecast_es.values, 0)))\n",
    "\n",
    "# 결과 집계\n",
    "results = pd.DataFrame({\n",
    "    'model': ['baseline_ma24','baseline_lag24','random_forest','exp_smoothing_daily'],\n",
    "    'rmsle': [\n",
    "        rmsle(valid_bl['count'], valid_bl['pred_baseline_ma24']),\n",
    "        rmsle(valid_bl['count'], valid_bl['pred_baseline_lag24'].fillna(valid_bl['pred_baseline_ma24'])),\n",
    "        rmsle(y_valid, valid_pred_rf),\n",
    "        rmsle(valid_d.values, np.maximum(forecast_es.values, 0))\n",
    "    ]\n",
    "})\n",
    "print(results.sort_values('rmsle'))\n",
    "\n",
    "# 피처 중요도 (범주 OHE 포함 파이프에서는 직접 접근 어려움 -> permutation_importance 권장)\n",
    "from sklearn.inspection import permutation_importance\n",
    "perm = permutation_importance(pipe, X_valid, y_valid, n_repeats=3, random_state=42, n_jobs=-1)\n",
    "\n",
    "# 중요도 요약 출력 (파이프 특성명 추출)\n",
    "feature_names = list(pipe.named_steps['prep'].get_feature_names_out())\n",
    "fi = pd.Series(perm.importances_mean, index=feature_names).sort_values(ascending=False)[:20]\n",
    "print(fi)\n",
    "\n"
   ]
  },
  {
   "cell_type": "code",
   "execution_count": null,
   "id": "882e0253",
   "metadata": {},
   "outputs": [],
   "source": [
    "# 예측 결과와 실제 비교 시각화 (일/시간)\n",
    "import matplotlib.pyplot as plt\n",
    "import seaborn as sns\n",
    "\n",
    "# 시간 단위 비교 (랜덤포레스트)\n",
    "valid_vis = valid.copy()\n",
    "valid_vis['pred_rf'] = valid_pred_rf\n",
    "\n",
    "plt.figure(figsize=(16,5))\n",
    "sns.lineplot(x='datetime', y='count', data=valid_vis, label='actual')\n",
    "sns.lineplot(x='datetime', y='pred_rf', data=valid_vis, label='rf')\n",
    "plt.title('검증 구간 시간 단위: 실제 vs RF 예측')\n",
    "plt.tight_layout()\n",
    "plt.show()\n",
    "\n",
    "# 일 집계 비교 (ES)\n",
    "valid_d_vis = valid_d.to_frame('count').copy()\n",
    "valid_d_vis['pred_es'] = forecast_es.values\n",
    "\n",
    "plt.figure(figsize=(12,4))\n",
    "sns.lineplot(data=valid_d_vis)\n",
    "plt.title('검증 구간 일 단위: 실제 vs ES 예측')\n",
    "plt.tight_layout()\n",
    "plt.show()\n",
    "\n"
   ]
  },
  {
   "cell_type": "markdown",
   "id": "2004c090",
   "metadata": {},
   "source": [
    "# Bike Sharing Demand — Time Series Forecasting\n",
    "\n",
    "## RandomForest vs Prophet vs SARIMAX\n",
    "이 노트북은 Kaggle **Bike Sharing Demand** 데이터(train.csv)를 사용해\n",
    "- 머신러닝(RandomForest)\n",
    "- 시계열 전용(Prophet, *설치된 경우만 실행*)\n",
    "- 통계 시계열(SARIMAX)\n",
    "\n",
    "세 가지 접근을 비교합니다. 성능 평가는 **RMSE, MAE**로 진행합니다.\n",
    "\n",
    "> 그래프는 `matplotlib`만 사용하고, 스타일/색상은 지정하지 않습니다."
   ]
  },
  {
   "cell_type": "markdown",
   "id": "5de10942",
   "metadata": {},
   "source": [
    "## 1. 라이브러리 임포트 및 유틸 함수"
   ]
  },
  {
   "cell_type": "code",
   "execution_count": 1,
   "id": "80931623",
   "metadata": {},
   "outputs": [
    {
     "ename": "ModuleNotFoundError",
     "evalue": "No module named 'matplotlib'",
     "output_type": "error",
     "traceback": [
      "\u001b[31m---------------------------------------------------------------------------\u001b[39m",
      "\u001b[31mModuleNotFoundError\u001b[39m                       Traceback (most recent call last)",
      "\u001b[36mCell\u001b[39m\u001b[36m \u001b[39m\u001b[32mIn[1]\u001b[39m\u001b[32m, line 3\u001b[39m\n\u001b[32m      1\u001b[39m \u001b[38;5;28;01mimport\u001b[39;00m\u001b[38;5;250m \u001b[39m\u001b[34;01mpandas\u001b[39;00m\u001b[38;5;250m \u001b[39m\u001b[38;5;28;01mas\u001b[39;00m\u001b[38;5;250m \u001b[39m\u001b[34;01mpd\u001b[39;00m\n\u001b[32m      2\u001b[39m \u001b[38;5;28;01mimport\u001b[39;00m\u001b[38;5;250m \u001b[39m\u001b[34;01mnumpy\u001b[39;00m\u001b[38;5;250m \u001b[39m\u001b[38;5;28;01mas\u001b[39;00m\u001b[38;5;250m \u001b[39m\u001b[34;01mnp\u001b[39;00m\n\u001b[32m----> \u001b[39m\u001b[32m3\u001b[39m \u001b[38;5;28;01mimport\u001b[39;00m\u001b[38;5;250m \u001b[39m\u001b[34;01mmatplotlib\u001b[39;00m\u001b[34;01m.\u001b[39;00m\u001b[34;01mpyplot\u001b[39;00m\u001b[38;5;250m \u001b[39m\u001b[38;5;28;01mas\u001b[39;00m\u001b[38;5;250m \u001b[39m\u001b[34;01mplt\u001b[39;00m\n\u001b[32m      4\u001b[39m \u001b[38;5;28;01mfrom\u001b[39;00m\u001b[38;5;250m \u001b[39m\u001b[34;01mmath\u001b[39;00m\u001b[38;5;250m \u001b[39m\u001b[38;5;28;01mimport\u001b[39;00m sqrt\n\u001b[32m      6\u001b[39m \u001b[38;5;28;01mfrom\u001b[39;00m\u001b[38;5;250m \u001b[39m\u001b[34;01msklearn\u001b[39;00m\u001b[34;01m.\u001b[39;00m\u001b[34;01mensemble\u001b[39;00m\u001b[38;5;250m \u001b[39m\u001b[38;5;28;01mimport\u001b[39;00m RandomForestRegressor\n",
      "\u001b[31mModuleNotFoundError\u001b[39m: No module named 'matplotlib'"
     ]
    }
   ],
   "source": [
    "\n",
    "import pandas as pd\n",
    "import numpy as np\n",
    "import matplotlib.pyplot as plt\n",
    "from math import sqrt\n",
    "\n",
    "from sklearn.ensemble import RandomForestRegressor\n",
    "from sklearn.metrics import mean_squared_error, mean_absolute_error\n",
    "\n",
    "# Prophet은 환경에 설치되어 있지 않을 수 있어 optional로 처리\n",
    "try:\n",
    "    from prophet import Prophet\n",
    "    PROPHET_AVAILABLE = True\n",
    "except Exception as e:\n",
    "    PROPHET_AVAILABLE = False\n",
    "\n",
    "from statsmodels.tsa.statespace.sarimax import SARIMAX\n",
    "\n",
    "def rmse(y_true, y_pred):\n",
    "    return sqrt(mean_squared_error(y_true, y_pred))\n",
    "\n",
    "def mae(y_true, y_pred):\n",
    "    return mean_absolute_error(y_true, y_pred)\n"
   ]
  },
  {
   "cell_type": "markdown",
   "id": "08edf980",
   "metadata": {},
   "source": [
    "## 2. 데이터 로드 & 기본 전처리"
   ]
  },
  {
   "cell_type": "code",
   "execution_count": null,
   "id": "d4622ce2",
   "metadata": {},
   "outputs": [],
   "source": [
    "\n",
    "# 데이터 로드 (로컬/카글 환경 모두 호환)\n",
    "import os\n",
    "\n",
    "def load_bike_train():\n",
    "    candidate_paths = [\n",
    "        '/mnt/data/train.csv',\n",
    "        '/Users/kimjinseok/Desktop/메타코드 강의/bike-sharing-demand/train.csv',\n",
    "        'bike-sharing-demand/train.csv',\n",
    "        './train.csv'\n",
    "    ]\n",
    "    for p in candidate_paths:\n",
    "        if os.path.exists(p):\n",
    "            return pd.read_csv(p)\n",
    "    raise FileNotFoundError('train.csv 경로를 찾을 수 없습니다. 위 후보 경로를 확인하세요.')\n",
    "\n",
    "df = load_bike_train()\n",
    "\n",
    "# datetime 변환\n",
    "df['datetime'] = pd.to_datetime(df['datetime'])\n",
    "\n",
    "# 기본 파생변수\n",
    "df['year'] = df['datetime'].dt.year\n",
    "df['month'] = df['datetime'].dt.month\n",
    "df['day'] = df['datetime'].dt.day\n",
    "df['hour'] = df['datetime'].dt.hour\n",
    "df['weekday'] = df['datetime'].dt.weekday\n",
    "\n",
    "# 확인\n",
    "df.head()\n"
   ]
  },
  {
   "cell_type": "markdown",
   "id": "62652e26",
   "metadata": {},
   "source": [
    "## 3. 빠른 EDA (시각화)"
   ]
  },
  {
   "cell_type": "code",
   "execution_count": null,
   "id": "6f028d6b",
   "metadata": {},
   "outputs": [],
   "source": [
    "\n",
    "# 월별 평균 대여량\n",
    "monthly = df.groupby(['year', 'month'])['count'].mean().reset_index()\n",
    "monthly['yyyymm'] = monthly['year'].astype(str) + '-' + monthly['month'].astype(str).str.zfill(2)\n",
    "\n",
    "plt.figure()\n",
    "plt.plot(monthly['yyyymm'], monthly['count'])\n",
    "plt.xticks(rotation=45)\n",
    "plt.title('월별 평균 대여량')\n",
    "plt.xlabel('월')\n",
    "plt.ylabel('평균 count')\n",
    "plt.tight_layout()\n",
    "plt.show()\n"
   ]
  },
  {
   "cell_type": "code",
   "execution_count": null,
   "id": "e571d211",
   "metadata": {},
   "outputs": [],
   "source": [
    "\n",
    "# 시간대별 평균 대여량\n",
    "hourly = df.groupby('hour')['count'].mean().reset_index()\n",
    "\n",
    "plt.figure()\n",
    "plt.plot(hourly['hour'], hourly['count'])\n",
    "plt.title('시간대별 평균 대여량')\n",
    "plt.xlabel('Hour')\n",
    "plt.ylabel('평균 count')\n",
    "plt.tight_layout()\n",
    "plt.show()\n"
   ]
  },
  {
   "cell_type": "markdown",
   "id": "138910be",
   "metadata": {},
   "source": [
    "## 4. 시계열 분할 (Train/Test)\n",
    "- 시계열의 시간 순서를 보존하기 위해 **마지막 30일**을 테스트로 사용합니다."
   ]
  },
  {
   "cell_type": "code",
   "execution_count": null,
   "id": "c74f7258",
   "metadata": {},
   "outputs": [],
   "source": [
    "\n",
    "# 마지막 30일 기준으로 train/test 분리\n",
    "cutoff_date = df['datetime'].max() - pd.Timedelta(days=30)\n",
    "train_df = df[df['datetime'] <= cutoff_date].copy()\n",
    "test_df  = df[df['datetime'] > cutoff_date].copy()\n",
    "\n",
    "train_df.shape, test_df.shape, cutoff_date\n"
   ]
  },
  {
   "cell_type": "markdown",
   "id": "32d02848",
   "metadata": {},
   "source": [
    "\n"
   ]
  },
  {
   "cell_type": "code",
   "execution_count": null,
   "id": "01b85500",
   "metadata": {},
   "outputs": [],
   "source": [
    "\n"
   ]
  },
  {
   "cell_type": "markdown",
   "id": "21b99484",
   "metadata": {},
   "source": [
    "## 5. 모델 1 — RandomForestRegressor (머신러닝)"
   ]
  },
  {
   "cell_type": "code",
   "execution_count": null,
   "id": "be4c2182",
   "metadata": {},
   "outputs": [],
   "source": [
    "\n",
    "rf_features = ['year', 'month', 'day', 'hour', 'weekday', 'season', 'holiday', 'workingday', 'weather', 'temp', 'humidity', 'windspeed']\n",
    "target = 'count'\n",
    "\n",
    "X_train = train_df[rf_features]\n",
    "y_train = train_df[target]\n",
    "X_test  = test_df[rf_features]\n",
    "y_test  = test_df[target]\n",
    "\n",
    "rf = RandomForestRegressor(\n",
    "    n_estimators=300,\n",
    "    max_depth=None,\n",
    "    random_state=42,\n",
    "    n_jobs=-1\n",
    ")\n",
    "rf.fit(X_train, y_train)\n",
    "pred_rf = rf.predict(X_test)\n",
    "\n",
    "rf_rmse = rmse(y_test, pred_rf)\n",
    "rf_mae  = mae(y_test, pred_rf)\n",
    "\n",
    "rf_rmse, rf_mae\n"
   ]
  },
  {
   "cell_type": "code",
   "execution_count": null,
   "id": "ca7242a0",
   "metadata": {},
   "outputs": [],
   "source": [
    "\n",
    "# 피처 중요도 시각화\n",
    "importances = pd.Series(rf.feature_importances_, index=rf_features).sort_values(ascending=False)\n",
    "\n",
    "plt.figure()\n",
    "importances.plot(kind='bar')\n",
    "plt.title('RandomForest Feature Importances')\n",
    "plt.ylabel('Importance')\n",
    "plt.tight_layout()\n",
    "plt.show()\n"
   ]
  },
  {
   "cell_type": "code",
   "execution_count": null,
   "id": "536e4e87",
   "metadata": {},
   "outputs": [],
   "source": [
    "\n",
    "# 예측 vs 실제\n",
    "plt.figure()\n",
    "plt.plot(test_df['datetime'].values, y_test.values, label='Actual')\n",
    "plt.plot(test_df['datetime'].values, pred_rf, label='RF Pred')\n",
    "plt.title('RandomForest: 실제 vs 예측')\n",
    "plt.xlabel('datetime')\n",
    "plt.ylabel('count')\n",
    "plt.legend()\n",
    "plt.tight_layout()\n",
    "plt.show()\n"
   ]
  },
  {
   "cell_type": "markdown",
   "id": "a3a5d759",
   "metadata": {},
   "source": [
    "## 5b. 쉬운 베이스라인 — 복잡한 모델 전에 기준선부터\n",
    "- **Naive-24h**: 전일 같은 시간의 수요를 그대로 예측\n",
    "- **Hour-Mean**: 학습기간의 시간대별 평균을 예측치로 사용\n"
   ]
  },
  {
   "cell_type": "code",
   "execution_count": null,
   "id": "d08eb5a2",
   "metadata": {},
   "outputs": [],
   "source": [
    "# 베이스라인 계산\n",
    "s_all = df.set_index('datetime')['count'].asfreq('H')\n",
    "# 전일 같은 시간\n",
    "pred_naive = []\n",
    "for ts in test_df['datetime']:\n",
    "    prev = ts - pd.Timedelta(hours=24)\n",
    "    val = s_all.get(prev, np.nan)\n",
    "    pred_naive.append(val)\n",
    "\n",
    "pred_naive = np.array(pred_naive)\n",
    "bl24_valid = ~np.isnan(pred_naive)\n",
    "bl24_rmse = rmse(y_test.values[bl24_valid], pred_naive[bl24_valid])\n",
    "bl24_mae  = mae(y_test.values[bl24_valid], pred_naive[bl24_valid])\n",
    "\n",
    "# 시간대 평균\n",
    "hour_mean = train_df.groupby('hour')['count'].mean()\n",
    "pred_hmean = test_df['hour'].map(hour_mean).values\n",
    "hmean_rmse = rmse(y_test.values, pred_hmean)\n",
    "hmean_mae  = mae(y_test.values, pred_hmean)\n",
    "\n",
    "print('Baseline(Naive-24h) RMSE/MAE:', round(bl24_rmse,2), round(bl24_mae,2))\n",
    "print('Baseline(Hour-Mean) RMSE/MAE:', round(hmean_rmse,2), round(hmean_mae,2))\n"
   ]
  },
  {
   "cell_type": "markdown",
   "id": "dd43160b",
   "metadata": {},
   "source": [
    "## 5c. 간단 특징 만들기 — 지연(lag)과 이동평균(roll)\n",
    "- 예측 시점 이전 정보만 사용해 누출을 방지합니다.\n",
    "- 핵심: `lag_1`, `lag_24`, `roll3`, `roll24`.\n"
   ]
  },
  {
   "cell_type": "code",
   "execution_count": null,
   "id": "656cee03",
   "metadata": {},
   "outputs": [],
   "source": [
    "# 전체 데이터에서 순서대로 피처 생성 후 train/test 분리\n",
    "full = df.sort_values('datetime').set_index('datetime').copy()\n",
    "full['lag_1']  = full['count'].shift(1)\n",
    "full['lag_24'] = full['count'].shift(24)\n",
    "full['roll3']  = full['count'].shift(1).rolling(3).mean()\n",
    "full['roll24'] = full['count'].shift(1).rolling(24).mean()\n",
    "\n",
    "# 분할 동일 기준 사용\n",
    "train_fe = full.loc[:cutoff_date].dropna().copy()\n",
    "test_fe  = full.loc[cutoff_date + pd.Timedelta(seconds=0):].dropna().copy()\n",
    "\n",
    "# 원본 공변량(시간/기상) 인덱스 정렬 후 조인\n",
    "exog_cols = ['hour','temp','humidity','season','holiday','workingday','weather','windspeed','atemp']\n",
    "exog = df.set_index('datetime')[exog_cols]\n",
    "\n",
    "# 선형회귀용 단순 피처\n",
    "Xtr_lr = pd.concat([\n",
    "    train_fe[['lag_24']],\n",
    "    exog.loc[train_fe.index, ['hour','temp','humidity']]\n",
    "], axis=1)\n",
    "ytr    = train_fe['count']\n",
    "Xte_lr = pd.concat([\n",
    "    test_fe[['lag_24']],\n",
    "    exog.loc[test_fe.index, ['hour','temp','humidity']]\n",
    "], axis=1)\n",
    "yte    = df.set_index('datetime').loc[test_fe.index, 'count']\n",
    "\n",
    "# RF(+lag)용 확장 피처\n",
    "Xtr_rf = pd.concat([\n",
    "    train_fe[['lag_1','lag_24','roll3','roll24']],\n",
    "    exog.loc[train_fe.index, exog_cols]\n",
    "], axis=1)\n",
    "Xte_rf = pd.concat([\n",
    "    test_fe[['lag_1','lag_24','roll3','roll24']],\n",
    "    exog.loc[test_fe.index, exog_cols]\n",
    "], axis=1)\n"
   ]
  },
  {
   "cell_type": "markdown",
   "id": "cc1b1da0",
   "metadata": {},
   "source": [
    "## 5d. 해석 쉬운 선형회귀 + 간단 랜덤포레스트(피처 포함)\n",
    "- 선형회귀: `lag_24`와 기상/시간 정보를 이용한 단순 예측\n",
    "- RF(+lag): 트리 기반으로 비선형 패턴까지 포착\n"
   ]
  },
  {
   "cell_type": "code",
   "execution_count": null,
   "id": "baf9d108",
   "metadata": {},
   "outputs": [],
   "source": [
    "from sklearn.linear_model import LinearRegression\n",
    "\n",
    "# 선형회귀\n",
    "lr = LinearRegression()\n",
    "lr.fit(Xtr_lr, ytr)\n",
    "pred_lr = lr.predict(Xte_lr)\n",
    "lr_rmse = rmse(yte.values, pred_lr)\n",
    "lr_mae  = mae(yte.values, pred_lr)\n",
    "print('LinearRegression RMSE/MAE:', round(lr_rmse,2), round(lr_mae,2))\n",
    "\n",
    "# lag 포함 RF (가벼운 사양)\n",
    "rf2 = RandomForestRegressor(n_estimators=200, random_state=42, n_jobs=-1)\n",
    "rf2.fit(Xtr_rf, ytr)\n",
    "pred_rf2 = rf2.predict(Xte_rf)\n",
    "rf2_rmse = rmse(yte.values, pred_rf2)\n",
    "rf2_mae  = mae(yte.values, pred_rf2)\n",
    "print('RF(+lag) RMSE/MAE:', round(rf2_rmse,2), round(rf2_mae,2))\n"
   ]
  },
  {
   "cell_type": "code",
   "execution_count": null,
   "id": "3bdc2dba",
   "metadata": {},
   "outputs": [],
   "source": [
    "# 간단 비교 바차트\n",
    "labels = ['BL-24h','BL-HourMean','RF(orig)','LR(+lag)','RF(+lag)','SARIMAX'] + (['Prophet'] if 'prophet_rmse' in globals() or 'prophet_rmse' in locals() else [])\n",
    "values = [bl24_rmse, hmean_rmse, rf_rmse, lr_rmse, rf2_rmse, sarimax_rmse] + ([prophet_rmse] if 'prophet_rmse' in globals() or 'prophet_rmse' in locals() else [])\n",
    "\n",
    "plt.figure()\n",
    "plt.bar(range(len(labels)), values)\n",
    "plt.xticks(range(len(labels)), labels, rotation=45)\n",
    "plt.ylabel('RMSE (낮을수록 좋음)')\n",
    "plt.title('모델/베이스라인 성능 비교')\n",
    "plt.tight_layout()\n",
    "plt.show()\n"
   ]
  },
  {
   "cell_type": "markdown",
   "id": "d8770f73",
   "metadata": {},
   "source": [
    "\n"
   ]
  },
  {
   "cell_type": "code",
   "execution_count": null,
   "id": "bb917490",
   "metadata": {},
   "outputs": [],
   "source": [
    "\n"
   ]
  },
  {
   "cell_type": "code",
   "execution_count": null,
   "id": "03949c5b",
   "metadata": {},
   "outputs": [],
   "source": [
    "# 확장 비교 표\n",
    "results2 = {\n",
    "    'BL-24h': {'RMSE': bl24_rmse, 'MAE': bl24_mae},\n",
    "    'BL-HourMean': {'RMSE': hmean_rmse, 'MAE': hmean_mae},\n",
    "    'RandomForest(orig)': {'RMSE': rf_rmse, 'MAE': rf_mae},\n",
    "    'LinearRegression(+lag)': {'RMSE': lr_rmse, 'MAE': lr_mae},\n",
    "    'RandomForest(+lag)': {'RMSE': rf2_rmse, 'MAE': rf2_mae},\n",
    "    'SARIMAX': {'RMSE': sarimax_rmse, 'MAE': sarimax_mae}\n",
    "}\n",
    "if PROPHET_AVAILABLE:\n",
    "    results2['Prophet'] = {'RMSE': prophet_rmse, 'MAE': prophet_mae}\n",
    "\n",
    "res_df2 = pd.DataFrame(results2).T\n",
    "res_df2\n"
   ]
  },
  {
   "cell_type": "markdown",
   "id": "b1deaf19",
   "metadata": {},
   "source": [
    "### 강의 전달 팁\n",
    "- 먼저 베이스라인으로 문제 감을 잡은 뒤, 간단 특징과 선형회귀로 “왜 그런지”를 설명합니다.\n",
    "- 이후 RandomForest(+lag)로 성능을 올리고, SARIMAX/Prophet은 맛보기 비교 정도로만 다룹니다.\n",
    "- 실무 포인트: 시간 누출 방지(shift), 시간대 평균 같은 운영 친화적 기준선을 항상 함께 제시하세요.\n"
   ]
  },
  {
   "cell_type": "markdown",
   "id": "cba62305",
   "metadata": {},
   "source": [
    "## 6. 모델 2 — Prophet (시계열 전용, 설치된 경우만 실행)"
   ]
  },
  {
   "cell_type": "code",
   "execution_count": null,
   "id": "d8d543dd",
   "metadata": {},
   "outputs": [],
   "source": [
    "\n",
    "if PROPHET_AVAILABLE:\n",
    "    # Prophet은 ds, y 컬럼 사용\n",
    "    train_p = train_df[['datetime', 'count']].rename(columns={'datetime': 'ds', 'count': 'y'})\n",
    "    test_p  = test_df[['datetime', 'count']].rename(columns={'datetime': 'ds', 'count': 'y'})\n",
    "    \n",
    "    m = Prophet(\n",
    "        yearly_seasonality=True,\n",
    "        weekly_seasonality=True,\n",
    "        daily_seasonality=True\n",
    "    )\n",
    "    m.fit(train_p)\n",
    "    \n",
    "    # 테스트 기간 동안 예측\n",
    "    future = pd.DataFrame({'ds': test_p['ds']})\n",
    "    forecast = m.predict(future)\n",
    "    \n",
    "    # Prophet 예측 결과와 실제 매칭\n",
    "    pred_prophet = forecast['yhat'].values\n",
    "    prophet_rmse = rmse(test_p['y'].values, pred_prophet)\n",
    "    prophet_mae  = mae(test_p['y'].values, pred_prophet)\n",
    "    \n",
    "    print('Prophet RMSE, MAE:', prophet_rmse, prophet_mae)\n",
    "    \n",
    "    # 시각화\n",
    "    plt.figure()\n",
    "    plt.plot(test_p['ds'].values, test_p['y'].values, label='Actual')\n",
    "    plt.plot(test_p['ds'].values, pred_prophet, label='Prophet Pred')\n",
    "    plt.title('Prophet: 실제 vs 예측')\n",
    "    plt.xlabel('datetime')\n",
    "    plt.ylabel('count')\n",
    "    plt.legend()\n",
    "    plt.tight_layout()\n",
    "    plt.show()\n",
    "else:\n",
    "    print('Prophet이 설치되어 있지 않아 이 섹션을 건너뜁니다. (pip install prophet 후 재실행)')\n"
   ]
  },
  {
   "cell_type": "markdown",
   "id": "615416bf",
   "metadata": {},
   "source": [
    "## 7. 모델 3 — SARIMAX (통계 시계열)\n",
    "- 간단한 파라미터로 예시를 실행합니다. (시즌 주기: 24시간)"
   ]
  },
  {
   "cell_type": "code",
   "execution_count": null,
   "id": "0437fc31",
   "metadata": {},
   "outputs": [],
   "source": [
    "\n",
    "# 시계열 인덱스 구성\n",
    "ts_train = train_df.set_index('datetime')['count'].asfreq('H')\n",
    "ts_test  = test_df.set_index('datetime')['count'].asfreq('H')\n",
    "\n",
    "# 결측이 있다면 0으로 채움(간단 처리)\n",
    "ts_train = ts_train.fillna(0)\n",
    "ts_test  = ts_test.fillna(0)\n",
    "\n",
    "# 간단한 사양: (p,d,q)=(1,1,1), (P,D,Q,m)=(1,1,1,24)\n",
    "# 학습 시간 단축을 위해 enforce_stationarity/enforce_invertibility=False\n",
    "model = SARIMAX(ts_train,\n",
    "                order=(1,1,1),\n",
    "                seasonal_order=(1,1,1,24),\n",
    "                enforce_stationarity=False,\n",
    "                enforce_invertibility=False)\n",
    "res = model.fit(disp=False)\n",
    "\n",
    "# 테스트 구간 예측\n",
    "pred_sarimax = res.get_forecast(steps=len(ts_test)).predicted_mean\n",
    "\n",
    "sarimax_rmse = rmse(ts_test.values, pred_sarimax.values)\n",
    "sarimax_mae  = mae(ts_test.values, pred_sarimax.values)\n",
    "\n",
    "sarimax_rmse, sarimax_mae\n"
   ]
  },
  {
   "cell_type": "code",
   "execution_count": null,
   "id": "bd527353",
   "metadata": {},
   "outputs": [],
   "source": [
    "\n",
    "plt.figure()\n",
    "plt.plot(ts_test.index, ts_test.values, label='Actual')\n",
    "plt.plot(ts_test.index, pred_sarimax.values, label='SARIMAX Pred')\n",
    "plt.title('SARIMAX: 실제 vs 예측')\n",
    "plt.xlabel('datetime')\n",
    "plt.ylabel('count')\n",
    "plt.legend()\n",
    "plt.tight_layout()\n",
    "plt.show()\n"
   ]
  },
  {
   "cell_type": "markdown",
   "id": "be7ab4e2",
   "metadata": {},
   "source": [
    "## 8. 성능 비교 (RMSE / MAE)"
   ]
  },
  {
   "cell_type": "code",
   "execution_count": null,
   "id": "91622375",
   "metadata": {},
   "outputs": [],
   "source": [
    "\n",
    "results = {\n",
    "    'RandomForest': {'RMSE': rf_rmse, 'MAE': rf_mae},\n",
    "    'SARIMAX': {'RMSE': sarimax_rmse, 'MAE': sarimax_mae}\n",
    "}\n",
    "if PROPHET_AVAILABLE:\n",
    "    results['Prophet'] = {'RMSE': prophet_rmse, 'MAE': prophet_mae}\n",
    "\n",
    "res_df = pd.DataFrame(results).T\n",
    "res_df\n"
   ]
  },
  {
   "cell_type": "code",
   "execution_count": null,
   "id": "935ba883",
   "metadata": {},
   "outputs": [],
   "source": [
    "\n",
    "from caas_jupyter_tools import display_dataframe_to_user\n",
    "display_dataframe_to_user(\"Model Performance (RMSE/MAE)\", res_df)\n"
   ]
  },
  {
   "cell_type": "markdown",
   "id": "bf327599",
   "metadata": {},
   "source": [
    "\n"
   ]
  },
  {
   "cell_type": "code",
   "execution_count": null,
   "id": "937af408",
   "metadata": {},
   "outputs": [],
   "source": [
    "\n"
   ]
  },
  {
   "cell_type": "code",
   "execution_count": null,
   "id": "0460fe0d",
   "metadata": {},
   "outputs": [],
   "source": [
    "\n"
   ]
  },
  {
   "cell_type": "code",
   "execution_count": null,
   "id": "507d9d61",
   "metadata": {},
   "outputs": [],
   "source": [
    "\n"
   ]
  },
  {
   "cell_type": "markdown",
   "id": "d41542fa",
   "metadata": {},
   "source": [
    "\n"
   ]
  },
  {
   "cell_type": "code",
   "execution_count": null,
   "id": "eb53bb54",
   "metadata": {},
   "outputs": [],
   "source": [
    "\n"
   ]
  },
  {
   "cell_type": "code",
   "execution_count": null,
   "id": "dec9deb5",
   "metadata": {},
   "outputs": [],
   "source": [
    "\n"
   ]
  },
  {
   "cell_type": "markdown",
   "id": "4a83bcc5",
   "metadata": {},
   "source": [
    "\n"
   ]
  },
  {
   "cell_type": "code",
   "execution_count": null,
   "id": "1f823491",
   "metadata": {},
   "outputs": [],
   "source": [
    "\n"
   ]
  },
  {
   "cell_type": "code",
   "execution_count": null,
   "id": "c2b9e66d",
   "metadata": {},
   "outputs": [],
   "source": [
    "\n"
   ]
  },
  {
   "cell_type": "code",
   "execution_count": null,
   "id": "86eca53b",
   "metadata": {},
   "outputs": [],
   "source": [
    "\n"
   ]
  },
  {
   "cell_type": "markdown",
   "id": "3acd6412",
   "metadata": {},
   "source": [
    "\n"
   ]
  }
 ],
 "metadata": {
  "kernelspec": {
   "display_name": "Python (agent-bot)",
   "language": "python",
   "name": "etf-bot"
  },
  "language_info": {
   "codemirror_mode": {
    "name": "ipython",
    "version": 3
   },
   "file_extension": ".py",
   "mimetype": "text/x-python",
   "name": "python",
   "nbconvert_exporter": "python",
   "pygments_lexer": "ipython3",
   "version": "3.12.9"
  }
 },
 "nbformat": 4,
 "nbformat_minor": 5
}
