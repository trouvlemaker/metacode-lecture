{
 "cells": [
  {
   "cell_type": "markdown",
   "id": "8de84999",
   "metadata": {},
   "source": [
    "# 📘 1강: CNN 기초 실습 — CIFAR-10 분류\n",
    "\n",
    "**목표**\n",
    "- 이미지 데이터 구조를 이해하고, CIFAR-10 데이터셋으로 **CNN을 처음부터 학습**합니다.\n",
    "- 전처리 → 모델구축 → 학습 → 평가 → **오분류 분석** → **성능개선(증강/드롭아웃)** 순으로 실습합니다.\n",
    "\n",
    "**소요시간 가이드 (30분)**\n",
    "- 도입/데이터 탐색(10분), 모델 구축/학습(10분), 평가/개선(10분)\n"
   ]
  },
  {
   "cell_type": "markdown",
   "id": "f0e0b2c9",
   "metadata": {},
   "source": [
    "## 0. 환경 설정 및 라이브러리 임포트"
   ]
  },
  {
   "cell_type": "code",
   "execution_count": null,
   "id": "12b31f78",
   "metadata": {},
   "outputs": [],
   "source": [
    "## ✨ 환경 체크 및 라이브러리 임포트\n",
    "import os, sys, time\n",
    "import numpy as np\n",
    "import matplotlib.pyplot as plt\n",
    "from typing import Tuple\n",
    "\n",
    "import tensorflow as tf\n",
    "from tensorflow.keras import datasets, layers, models\n",
    "from tensorflow.keras.callbacks import EarlyStopping, ModelCheckpoint\n",
    "\n",
    "from sklearn.metrics import confusion_matrix, classification_report\n",
    "\n",
    "print(f\"TensorFlow: {tf.__version__}\")\n",
    "print(\"GPU Available:\", tf.config.list_physical_devices('GPU'))\n"
   ]
  },
  {
   "cell_type": "markdown",
   "id": "4fd0832e",
   "metadata": {},
   "source": [
    "## 1. 데이터셋 로드 및 탐색 (CIFAR-10)"
   ]
  },
  {
   "cell_type": "code",
   "execution_count": null,
   "id": "395ec12f",
   "metadata": {},
   "outputs": [],
   "source": [
    "## 📦 CIFAR-10 데이터셋 로드\n",
    "(x_train, y_train), (x_test, y_test) = datasets.cifar10.load_data()\n",
    "class_names = ['airplane','automobile','bird','cat','deer','dog','frog','horse','ship','truck']\n",
    "y_train = y_train.reshape(-1)\n",
    "y_test = y_test.reshape(-1)\n",
    "x_train.shape, x_test.shape, y_train.shape, y_test.shape"
   ]
  },
  {
   "cell_type": "code",
   "execution_count": null,
   "id": "39b49f41",
   "metadata": {},
   "outputs": [],
   "source": [
    "## 🔍 샘플 이미지 그리드 확인 (5x5)\n",
    "plt.figure(figsize=(8,8))\n",
    "idx = np.random.choice(len(x_train), 25, replace=False)\n",
    "for i, id_ in enumerate(idx, 1):\n",
    "    plt.subplot(5,5,i)\n",
    "    plt.imshow(x_train[id_])\n",
    "    plt.title(class_names[y_train[id_]])\n",
    "    plt.axis('off')\n",
    "plt.tight_layout(); plt.show()"
   ]
  },
  {
   "cell_type": "code",
   "execution_count": null,
   "id": "466e1242",
   "metadata": {},
   "outputs": [],
   "source": [
    "## 📊 클래스 분포 확인 (train)\n",
    "counts = np.bincount(y_train, minlength=10)\n",
    "plt.figure(figsize=(8,3))\n",
    "plt.bar(range(10), counts)\n",
    "plt.xticks(range(10), class_names, rotation=45)\n",
    "plt.title('Class Distribution (Train)')\n",
    "plt.tight_layout(); plt.show()"
   ]
  },
  {
   "cell_type": "code",
   "execution_count": null,
   "id": "678db540",
   "metadata": {},
   "outputs": [],
   "source": [
    "## 📈 픽셀 분포 확인 (정규화 전)\n",
    "plt.figure(figsize=(6,3))\n",
    "plt.hist(x_train.ravel(), bins=50)\n",
    "plt.title('Raw Pixel Value Distribution (0~255)')\n",
    "plt.tight_layout(); plt.show()"
   ]
  },
  {
   "cell_type": "markdown",
   "id": "2a8dedb1",
   "metadata": {},
   "source": [
    "## 2. 데이터 전처리 (정규화, 검증셋 분리)"
   ]
  },
  {
   "cell_type": "code",
   "execution_count": null,
   "id": "f72e8c4a",
   "metadata": {},
   "outputs": [],
   "source": [
    "## ✂️ Train/Validation 분리 (8:2), 0~1 정규화\n",
    "from sklearn.model_selection import train_test_split\n",
    "\n",
    "x_train = x_train.astype('float32') / 255.0\n",
    "x_test  = x_test.astype('float32')  / 255.0\n",
    "\n",
    "x_tr, x_va, y_tr, y_va = train_test_split(\n",
    "    x_train, y_train, test_size=0.2, random_state=42, stratify=y_train\n",
    ")\n",
    "x_tr.shape, x_va.shape, y_tr.shape, y_va.shape"
   ]
  },
  {
   "cell_type": "markdown",
   "id": "95b414ad",
   "metadata": {},
   "source": [
    "## 3. (Baseline) Dense-Only 모델로 비교하기"
   ]
  },
  {
   "cell_type": "code",
   "execution_count": null,
   "id": "ba180e02",
   "metadata": {},
   "outputs": [],
   "source": [
    "## 📐 Dense 네트워크 (Conv 없이 비교용)\n",
    "mlp = models.Sequential([\n",
    "    layers.Flatten(input_shape=(32,32,3)),\n",
    "    layers.Dense(256, activation='relu'),\n",
    "    layers.Dropout(0.3),\n",
    "    layers.Dense(10, activation='softmax')\n",
    "])\n",
    "mlp.compile(optimizer='adam', loss='sparse_categorical_crossentropy', metrics=['accuracy'])\n",
    "hist_mlp = mlp.fit(x_tr, y_tr, validation_data=(x_va, y_va), epochs=5, batch_size=128, verbose=1)"
   ]
  },
  {
   "cell_type": "markdown",
   "id": "729c0c31",
   "metadata": {},
   "source": [
    "## 4. CNN 모델 구성 (V1: 기본 구조)"
   ]
  },
  {
   "cell_type": "code",
   "execution_count": null,
   "id": "5064f43f",
   "metadata": {},
   "outputs": [],
   "source": [
    "## 🧱 간단한 CNN 모델\n",
    "def build_cnn_v1() -> tf.keras.Model:\n",
    "    model = models.Sequential([\n",
    "        layers.Conv2D(32, (3,3), activation='relu', input_shape=(32,32,3)),\n",
    "        layers.MaxPooling2D((2,2)),\n",
    "        layers.Conv2D(64, (3,3), activation='relu'),\n",
    "        layers.MaxPooling2D((2,2)),\n",
    "        layers.Conv2D(128, (3,3), activation='relu'),\n",
    "        layers.Flatten(),\n",
    "        layers.Dropout(0.3),\n",
    "        layers.Dense(128, activation='relu'),\n",
    "        layers.Dense(10, activation='softmax')\n",
    "    ])\n",
    "    return model\n",
    "\n",
    "cnn_v1 = build_cnn_v1()\n",
    "cnn_v1.compile(optimizer='adam', loss='sparse_categorical_crossentropy', metrics=['accuracy'])\n",
    "\n",
    "## 🛑 과적합 방지 콜백\n",
    "ckpt_path = 'cnn_v1_best.keras'\n",
    "callbacks=[\n",
    "    EarlyStopping(patience=3, restore_best_weights=True, monitor='val_accuracy'),\n",
    "    ModelCheckpoint(ckpt_path, monitor='val_accuracy', save_best_only=True)\n",
    "]\n",
    "hist_v1 = cnn_v1.fit(x_tr, y_tr, validation_data=(x_va, y_va), epochs=15, batch_size=128, callbacks=callbacks, verbose=1)"
   ]
  },
  {
   "cell_type": "code",
   "execution_count": null,
   "id": "92c938d5",
   "metadata": {},
   "outputs": [],
   "source": [
    "## 📉 학습 곡선 시각화 함수\n",
    "def plot_history(history, title='Training History'):\n",
    "    h = history.history\n",
    "    plt.figure(figsize=(6,4))\n",
    "    plt.plot(h['accuracy'], label='train_acc')\n",
    "    plt.plot(h['val_accuracy'], label='val_acc')\n",
    "    plt.title(title)\n",
    "    plt.xlabel('Epoch'); plt.ylabel('Accuracy'); plt.legend(); plt.tight_layout(); plt.show()\n",
    "    \n",
    "    plt.figure(figsize=(6,4))\n",
    "    plt.plot(h['loss'], label='train_loss')\n",
    "    plt.plot(h['val_loss'], label='val_loss')\n",
    "    plt.title(title)\n",
    "    plt.xlabel('Epoch'); plt.ylabel('Loss'); plt.legend(); plt.tight_layout(); plt.show()\n",
    "\n",
    "plot_history(hist_mlp, 'MLP History')\n",
    "plot_history(hist_v1, 'CNN V1 History')"
   ]
  },
  {
   "cell_type": "markdown",
   "id": "d7f0def1",
   "metadata": {},
   "source": [
    "## 5. 테스트 평가 및 혼동행렬"
   ]
  },
  {
   "cell_type": "code",
   "execution_count": null,
   "id": "678c29e9",
   "metadata": {},
   "outputs": [],
   "source": [
    "## 🧪 테스트 평가\n",
    "test_loss, test_acc = cnn_v1.evaluate(x_test, y_test, verbose=0)\n",
    "print(f\"[CNN V1] Test Acc: {test_acc:.4f}  |  Test Loss: {test_loss:.4f}\")\n",
    "\n",
    "## 🔢 예측 및 혼동행렬\n",
    "y_pred = np.argmax(cnn_v1.predict(x_test, verbose=0), axis=1)\n",
    "cm = confusion_matrix(y_test, y_pred, labels=range(10))\n",
    "\n",
    "plt.figure(figsize=(6,5))\n",
    "plt.imshow(cm, interpolation='nearest')\n",
    "plt.title('Confusion Matrix')\n",
    "plt.colorbar(); plt.xticks(range(10), class_names, rotation=45); plt.yticks(range(10), class_names)\n",
    "plt.tight_layout(); plt.xlabel('Predicted'); plt.ylabel('True'); plt.show()\n",
    "\n",
    "print('\\n[Classification Report]\\n')\n",
    "print(classification_report(y_test, y_pred, target_names=class_names))"
   ]
  },
  {
   "cell_type": "markdown",
   "id": "c4e2459d",
   "metadata": {},
   "source": [
    "## 6. 오분류 사례 분석 (에러 분석)"
   ]
  },
  {
   "cell_type": "code",
   "execution_count": null,
   "id": "16e7c964",
   "metadata": {},
   "outputs": [],
   "source": [
    "mis_idx = np.where(y_pred != y_test)[0]\n",
    "print(f\"오분류 개수: {len(mis_idx)}\")\n",
    "plt.figure(figsize=(8,8))\n",
    "for i, id_ in enumerate(mis_idx[:16], 1):\n",
    "    plt.subplot(4,4,i)\n",
    "    plt.imshow(x_test[id_])\n",
    "    plt.title(f\"T:{class_names[y_test[id_]]}\\nP:{class_names[y_pred[id_]]}\")\n",
    "    plt.axis('off')\n",
    "plt.tight_layout(); plt.show()"
   ]
  },
  {
   "cell_type": "markdown",
   "id": "c535aee3",
   "metadata": {},
   "source": [
    "## 7. 성능 개선 — 데이터 증강 & 드롭아웃 (V2)"
   ]
  },
  {
   "cell_type": "code",
   "execution_count": null,
   "id": "c7358015",
   "metadata": {},
   "outputs": [],
   "source": [
    "## 🔁 데이터 증강 파이프라인\n",
    "data_aug = tf.keras.Sequential([\n",
    "    layers.RandomFlip('horizontal'),\n",
    "    layers.RandomRotation(0.1),\n",
    "    layers.RandomZoom(0.1)\n",
    "])\n",
    "\n",
    "## 🧱 CNN V2: 증강 + 드롭아웃 확장\n",
    "def build_cnn_v2() -> tf.keras.Model:\n",
    "    inputs = layers.Input(shape=(32,32,3))\n",
    "    x = data_aug(inputs)\n",
    "    x = layers.Conv2D(32, (3,3), activation='relu')(x)\n",
    "    x = layers.MaxPooling2D((2,2))(x)\n",
    "    x = layers.Conv2D(64, (3,3), activation='relu')(x)\n",
    "    x = layers.MaxPooling2D((2,2))(x)\n",
    "    x = layers.Conv2D(128, (3,3), activation='relu')(x)\n",
    "    x = layers.GlobalAveragePooling2D()(x)\n",
    "    x = layers.Dropout(0.4)(x)\n",
    "    outputs = layers.Dense(10, activation='softmax')(x)\n",
    "    model = tf.keras.Model(inputs, outputs)\n",
    "    return model\n",
    "\n",
    "cnn_v2 = build_cnn_v2()\n",
    "cnn_v2.compile(optimizer='adam', loss='sparse_categorical_crossentropy', metrics=['accuracy'])\n",
    "hist_v2 = cnn_v2.fit(x_tr, y_tr, validation_data=(x_va, y_va), epochs=15, batch_size=128, verbose=1)\n",
    "\n",
    "## ✅ 테스트 성능 비교\n",
    "acc_v1 = cnn_v1.evaluate(x_test, y_test, verbose=0)[1]\n",
    "acc_v2 = cnn_v2.evaluate(x_test, y_test, verbose=0)[1]\n",
    "print(f\"V1 Test Acc: {acc_v1:.4f} | V2 Test Acc: {acc_v2:.4f}\")\n",
    "\n",
    "plot_history(hist_v2, 'CNN V2 History')"
   ]
  },
  {
   "cell_type": "markdown",
   "id": "f48b998d",
   "metadata": {},
   "source": [
    "## 8. 모델 저장 및 로딩"
   ]
  },
  {
   "cell_type": "code",
   "execution_count": null,
   "id": "84055c7e",
   "metadata": {},
   "outputs": [],
   "source": [
    "cnn_v2.save('cnn_v2_final.keras')\n",
    "print('모델 저장 완료: cnn_v2_final.keras')\n",
    "\n",
    "loaded = tf.keras.models.load_model('cnn_v2_final.keras')\n",
    "print('로딩 테스트:', loaded.evaluate(x_test, y_test, verbose=0))"
   ]
  },
  {
   "cell_type": "markdown",
   "id": "53e0b0e9",
   "metadata": {},
   "source": [
    "### ✅ 요약\n",
    "- CNN은 이미지의 지역적 패턴을 자동 학습하여 분류 성능을 높입니다.\n",
    "- 데이터 증강과 드롭아웃을 통해 **과적합을 완화**하고 일반화 성능을 높일 수 있습니다.\n",
    "- 다음 강의에서는 **사전학습(Transfer Learning)** 으로 더 빠르고 높은 성능을 달성해 봅니다.\n"
   ]
  }
 ],
 "metadata": {
  "kernelspec": {
   "display_name": "Python 3",
   "language": "python",
   "name": "python3"
  },
  "language_info": {
   "name": "python",
   "version": "3.x"
  }
 },
 "nbformat": 4,
 "nbformat_minor": 5
}
