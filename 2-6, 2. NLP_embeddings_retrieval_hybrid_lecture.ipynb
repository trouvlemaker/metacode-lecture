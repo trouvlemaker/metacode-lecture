{
  "cells": [
    {
      "cell_type": "markdown",
      "metadata": {},
      "source": [
        "## Chapter 2-6, 2강 NLP 임베딩 기반 검색 — TF‑IDF vs SBERT vs Hybrid (CPU)\n",
        "\n",
        "- 목표: 의미/키워드 검색 방식을 비교하고, 하이브리드로 직관적 성능 차이를 체감\n",
        "- 제약: CPU 전용 환경(훈련/추론 모두 CPU)\n",
        "- 데이터: AG News 코퍼스(소규모 서브셋)\n"
      ]
    },
    {
      "cell_type": "markdown",
      "metadata": {},
      "source": [
        "### 구성 (Overview)\n",
        "- 0. 환경 설정 및 라이브러리\n",
        "- 1. 데이터 로드 및 corpus 생성 (AG News)\n",
        "- 2. 임베딩 2가지: SBERT / TF‑IDF\n",
        "- 3. 단일 질문 검색: TF‑IDF / SBERT / Hybrid\n",
        "- 4. 결과 비교: 직관적 성능 분석(토픽/키워드/문맥)\n",
        "- 5. 추가: 하이브리드 가중치/속도/stopwords 영향\n"
      ]
    },
    {
      "cell_type": "markdown",
      "metadata": {},
      "source": [
        "### 0. 환경 설정 및 라이브러리\n"
      ]
    },
    {
      "cell_type": "code",
      "execution_count": 9,
      "metadata": {},
      "outputs": [],
      "source": [
        "# =========================\n",
        "# 0. 환경 설정 및 라이브러리\n",
        "# =========================\n",
        "\n",
        "# 표준 라이브러리\n",
        "import os, time, random\n",
        "from typing import List, Tuple\n",
        "from contextlib import contextmanager\n",
        "\n",
        "# 수치/데이터/시각화\n",
        "import numpy as np\n",
        "import pandas as pd\n",
        "import matplotlib.pyplot as plt\n",
        "\n",
        "# 사이킷런\n",
        "from sklearn.feature_extraction.text import TfidfVectorizer\n",
        "from sklearn.metrics.pairwise import cosine_similarity\n",
        "from sklearn.feature_extraction import text as sk_text\n",
        "\n",
        "# datasets / sentence-transformers (CPU 고정)\n",
        "from datasets import load_dataset\n",
        "from sentence_transformers import SentenceTransformer\n",
        "\n",
        "import warnings\n",
        "warnings.filterwarnings(\"ignore\", message=\".*matmul.*\")\n",
        "\n",
        "# -----------------------------------------\n",
        "# Matplotlib: 한글 폰트 및 마이너스 기호 설정\n",
        "# -----------------------------------------\n",
        "plt.rcParams[\"font.family\"] = \"AppleGothic\"\n",
        "plt.rcParams[\"axes.unicode_minus\"] = False\n",
        "\n",
        "# ------------------------\n",
        "# 재현성(시드) 고정\n",
        "# ------------------------\n",
        "def set_seed(seed: int = 42) -> None:\n",
        "    random.seed(seed)\n",
        "    np.random.seed(seed)\n",
        "\n",
        "set_seed(42)\n",
        "\n",
        "# ------------------------\n",
        "# 간단 타이머\n",
        "# ------------------------\n",
        "@contextmanager\n",
        "def timer(msg: str):\n",
        "    t0 = time.perf_counter()\n",
        "    yield\n",
        "    print(f\"[TIME] {msg}: {time.perf_counter() - t0:.2f}s\")\n"
      ]
    },
    {
      "cell_type": "markdown",
      "metadata": {},
      "source": [
        "### 1. 데이터 로드 및 corpus 생성 (AG News)\n"
      ]
    },
    {
      "cell_type": "code",
      "execution_count": 10,
      "metadata": {},
      "outputs": [
        {
          "name": "stdout",
          "output_type": "stream",
          "text": [
            "[TIME] AG News 로드: 2.91s\n",
            "800 samples\n",
            "label_names: ['World', 'Sports', 'Business', 'Sci/Tech']\n",
            "\n",
            "[클래스별 샘플 예시]\n",
            "[World] Venezuelans Vote Early in Referendum on Chavez Rule (Reuters) Reuters - Venezuelans turned out early\\and in large number...\n",
            "[World] S.Koreans Clash with Police on Iraq Troop Dispatch (Reuters) Reuters - South Korean police used water cannon in\\central ...\n",
            "[Sports] Phelps, Thorpe Advance in 200 Freestyle (AP) AP - Michael Phelps took care of qualifying for the Olympic 200-meter frees...\n",
            "[Sports] Reds Knock Padres Out of Wild-Card Lead (AP) AP - Wily Mo Pena homered twice and drove in four runs, helping the Cincinn...\n",
            "[Business] Wall St. Bears Claw Back Into the Black (Reuters) Reuters - Short-sellers, Wall Street's dwindling\\band of ultra-cynics,...\n",
            "[Business] Carlyle Looks Toward Commercial Aerospace (Reuters) Reuters - Private investment firm Carlyle Group,\\which has a reputat...\n",
            "[Sci/Tech] 'Madden,' 'ESPN' Football Score in Different Ways (Reuters) Reuters - Was absenteeism a little high\\on Tuesday among the...\n",
            "[Sci/Tech] Group to Propose New High-Speed Wireless Format (Reuters) Reuters - A group of technology companies\\including Texas Inst...\n"
          ]
        }
      ],
      "source": [
        "# ------------------------\n",
        "# AG News 서브셋 로더\n",
        "# ------------------------\n",
        "label_names: List[str] = [\"World\", \"Sports\", \"Business\", \"Sci/Tech\"]\n",
        "\n",
        "\n",
        "def load_ag_news_subset(n_per_class: int = 200) -> Tuple[List[str], List[int]]:\n",
        "    \"\"\"\n",
        "    AG News에서 클래스별 동일 개수(n_per_class) 샘플을 뽑아 텍스트/라벨을 반환\n",
        "    - CPU 환경 기준, 전체 120k 중 소규모만 사용\n",
        "    \"\"\"\n",
        "    ds = load_dataset(\"ag_news\", split=\"train\")\n",
        "    xs, ys = [], []\n",
        "    for lab in range(4):\n",
        "        sub = ds.filter(lambda ex: ex[\"label\"] == lab).select(range(n_per_class))\n",
        "        xs += [r[\"text\"] for r in sub]\n",
        "        ys += [int(r[\"label\"]) for r in sub]\n",
        "    return xs, ys\n",
        "\n",
        "\n",
        "with timer(\"AG News 로드\"):\n",
        "    corpus_texts, corpus_labels = load_ag_news_subset(n_per_class=200)\n",
        "\n",
        "print(len(corpus_texts), \"samples\")\n",
        "print(\"label_names:\", label_names)\n",
        "\n",
        "# 클래스별 샘플 확인(2개씩)\n",
        "print(\"\\n[클래스별 샘플 예시]\")\n",
        "shown = {i: 0 for i in range(4)}\n",
        "for t, lab in zip(corpus_texts, corpus_labels):\n",
        "    if shown[lab] < 2:\n",
        "        print(f\"[{label_names[lab]}] {str(t)[:120]}...\")\n",
        "        shown[lab] += 1\n"
      ]
    },
    {
      "cell_type": "markdown",
      "metadata": {},
      "source": [
        "### 2. 임베딩 2가지: SBERT / TF‑IDF\n"
      ]
    },
    {
      "cell_type": "code",
      "execution_count": null,
      "metadata": {},
      "outputs": [],
      "source": [
        "# ------------------------\n",
        "# TF-IDF 인덱스 구축\n",
        "# ------------------------\n",
        "# stopwords: 영어 불용어 사용(키워드 매칭 과다 방지)\n",
        "stop_words = list(sk_text.ENGLISH_STOP_WORDS) "
      ]
    },
    {
      "cell_type": "code",
      "execution_count": null,
      "metadata": {},
      "outputs": [],
      "source": [
        "vectorizer = TfidfVectorizer(\n",
        "    max_features=30000,\n",
        "    ngram_range=(1, 2),\n",
        "    stop_words=stop_words\n",
        ")\n",
        "\n",
        "with timer(\"TF-IDF fit_transform(corpus)\"):\n",
        "    X_tfidf = vectorizer.fit_transform(corpus_texts)\n",
        "\n",
        "print(\"TF-IDF shape:\", X_tfidf.shape)"
      ]
    },
    {
      "cell_type": "code",
      "execution_count": null,
      "metadata": {},
      "outputs": [
        {
          "name": "stdout",
          "output_type": "stream",
          "text": [
            "[TIME] TF-IDF fit_transform(corpus): 0.21s\n",
            "TF-IDF shape: (800, 21987)\n",
            "[TIME] SBERT encode(corpus): 27.35s\n",
            "SBERT shape: (800, 384)\n"
          ]
        }
      ],
      "source": [
        "# ------------------------\n",
        "# SBERT 임베딩 구축 (CPU)\n",
        "# ------------------------\n",
        "\n",
        "def sbert_encode(texts: List[str], batch_size: int = 64,\n",
        "                 model_name: str = \"sentence-transformers/all-MiniLM-L6-v2\") -> np.ndarray:\n",
        "    model = SentenceTransformer(model_name, device=\"cpu\")\n",
        "    arrs = []\n",
        "    for i in range(0, len(texts), batch_size):\n",
        "        arr = model.encode(\n",
        "            texts[i:i+batch_size],\n",
        "            batch_size=batch_size,\n",
        "            show_progress_bar=False,\n",
        "            convert_to_numpy=True,\n",
        "            normalize_embeddings=False\n",
        "        ).astype(np.float64)\n",
        "        # L2 정규화 + NaN/Inf 방지\n",
        "        norms = np.linalg.norm(arr, axis=1, keepdims=True)\n",
        "        arr = arr / np.clip(norms, 1e-12, None)\n",
        "        arr = np.nan_to_num(arr, nan=0.0, posinf=0.0, neginf=0.0)\n",
        "        arrs.append(arr)\n",
        "    return np.vstack(arrs)\n",
        "\n",
        "with timer(\"SBERT encode(corpus)\"):\n",
        "    X_sbert = sbert_encode(corpus_texts)\n",
        "\n",
        "print(\"SBERT shape:\", X_sbert.shape)\n"
      ]
    },
    {
      "cell_type": "markdown",
      "metadata": {},
      "source": [
        "### 3. 단일 질문 검색: TF‑IDF / SBERT / Hybrid\n"
      ]
    },
    {
      "cell_type": "code",
      "execution_count": 16,
      "metadata": {},
      "outputs": [],
      "source": [
        "# ------------------------\n",
        "# 검색 함수 3종\n",
        "# ------------------------\n",
        "\n",
        "def search_tfidf(query: str, topk: int = 5):\n",
        "    qv = vectorizer.transform([query])\n",
        "    sims = cosine_similarity(qv, X_tfidf)[0]\n",
        "    idx = np.argsort(-sims)[:topk]\n",
        "    return [(int(i), float(sims[i])) for i in idx]\n",
        "\n",
        "\n",
        "def search_sbert(query: str, topk: int = 5):\n",
        "    qv = sbert_encode([query])  # (1, d)\n",
        "    sims = (X_sbert @ qv.T).ravel()  # 정규화된 코사인 유사도(내적)\n",
        "    idx = np.argsort(-sims)[:topk]\n",
        "    return [(int(i), float(sims[i])) for i in idx]\n",
        "\n",
        "\n",
        "def search_hybrid(query: str, topk: int = 5, alpha: float = 0.5):\n",
        "    # alpha: SBERT 가중치(0~1). 1이면 SBERT만, 0이면 TF-IDF만\n",
        "    qv_tfidf = vectorizer.transform([query])\n",
        "    sims_tfidf = cosine_similarity(qv_tfidf, X_tfidf)[0]\n",
        "    qv_sbert = sbert_encode([query])\n",
        "    sims_sbert = (X_sbert @ qv_sbert.T).ravel()\n",
        "    sims = alpha * sims_sbert + (1 - alpha) * sims_tfidf\n",
        "    idx = np.argsort(-sims)[:topk]\n",
        "    return [(int(i), float(sims[i])) for i in idx]\n"
      ]
    },
    {
      "cell_type": "code",
      "execution_count": 21,
      "metadata": {},
      "outputs": [
        {
          "name": "stdout",
          "output_type": "stream",
          "text": [
            "- (0.188) [Business] Veteran inventor in market float Trevor Baylis, the veteran inventor famous for creating the Freeplay clockwork radio, is planning to float his company on the stock market.\n",
            "- (0.180) [Business] In a Down Market, Head Toward Value Funds There is little cause for celebration in the stock market these days, but investors in value-focused mutual funds have reason to feel a bit smug -- if only because they've lost less than the folks who stuck with growth.\n",
            "- (0.172) [Business] Oil and Economy Cloud Stocks' Outlook (Reuters) Reuters - Soaring crude prices plus worries\\about the economy and the outlook for earnings are expected to\\hang over the stock market next week during the depth of the\\summer doldrums.\n",
            "- (0.172) [Business] Oil and Economy Cloud Stocks' Outlook (Reuters) Reuters - Soaring crude prices plus worries\\about the economy and the outlook for earnings are expected to\\hang over the stock market this week during the depth of the\\summer doldrums.\n",
            "- (0.170) [Business] Oil and Economy Cloud Stocks' Outlook  NEW YORK (Reuters) - Soaring crude prices plus worries  about the economy and the outlook for earnings are expected to  hang over the stock market this week during the depth of the  summer doldrums.\n",
            "- (0.458) [World] Election-Year Rate Hike Puzzles Some WASHINGTON - Going against conventional wisdom, the Federal Reserve is raising interest rates in an election year. And it is Fed Chairman Alan Greenspan, a Republican, who is leading the charge even though an incumbent Republican in the White House is facing voter unrest about the state of the economy...\n",
            "- (0.434) [Business] South Korea lowers interest rates South Korea's central bank cuts interest rates by a quarter percentage point to 3.5 in a bid to drive growth in the economy.\n",
            "- (0.396) [Business] Stocks Higher on Oil Price Relief (Reuters) Reuters - U.S. stocks gained on Monday, getting\\a boost from lower oil prices after news the Venezuelan\\president survived a recall eased fears about the country's oil\\exports.\n",
            "- (0.374) [Business] Will Schwab Reward Patience? The company saw an improvement in its trades, but will this market be kind to the brokerages?\n",
            "- (0.373) [World] Stocks Higher Despite Soaring Oil Prices NEW YORK - Wall Street shifted higher Monday as bargain hunters shrugged off skyrocketing oil prices and bought shares following an upbeat sales report from Wal-Mart Stores and a bright outlook from Lowe's.    The Dow Jones industrial average was up 84.07, or 0.9 percent, at 9,909.42, after edging 0.1 percent higher last week...\n",
            "- (0.298) [World] Election-Year Rate Hike Puzzles Some WASHINGTON - Going against conventional wisdom, the Federal Reserve is raising interest rates in an election year. And it is Fed Chairman Alan Greenspan, a Republican, who is leading the charge even though an incumbent Republican in the White House is facing voter unrest about the state of the economy...\n",
            "- (0.282) [Business] Oil and Economy Cloud Stocks' Outlook (Reuters) Reuters - Soaring crude prices plus worries\\about the economy and the outlook for earnings are expected to\\hang over the stock market next week during the depth of the\\summer doldrums.\n",
            "- (0.279) [Business] Oil and Economy Cloud Stocks' Outlook (Reuters) Reuters - Soaring crude prices plus worries\\about the economy and the outlook for earnings are expected to\\hang over the stock market this week during the depth of the\\summer doldrums.\n",
            "- (0.270) [Business] Oil and Economy Cloud Stocks' Outlook  NEW YORK (Reuters) - Soaring crude prices plus worries  about the economy and the outlook for earnings are expected to  hang over the stock market next week during the depth of the  summer doldrums.\n",
            "- (0.270) [Business] Oil and Economy Cloud Stocks' Outlook  NEW YORK (Reuters) - Soaring crude prices plus worries  about the economy and the outlook for earnings are expected to  hang over the stock market this week during the depth of the  summer doldrums.\n"
          ]
        }
      ],
      "source": [
        "# ------------------------\n",
        "# 단일 고정 질의(지시 사항대로)\n",
        "# ------------------------\n",
        "# 결과 수집 리스트\n",
        "rows_tfidf, rows_sbert, rows_hybrid = [], [], []\n",
        "# TF-IDF 루프 안에 추가\n",
        "for k, (i, s) in enumerate(search_tfidf(query, topk=5), start=1):\n",
        "    print(f\"- ({s:.3f}) [{label_names[corpus_labels[i]]}] {corpus_texts[i]}\")\n",
        "    rows_tfidf.append({\"rank\": k, \"score\": float(s), \"doc_id\": int(i),\n",
        "                       \"label\": label_names[corpus_labels[i]], \"text\": corpus_texts[i]})\n",
        "\n",
        "# SBERT 루프 안에 추가\n",
        "for k, (i, s) in enumerate(search_sbert(query, topk=5), start=1):\n",
        "    print(f\"- ({s:.3f}) [{label_names[corpus_labels[i]]}] {corpus_texts[i]}\")\n",
        "    rows_sbert.append({\"rank\": k, \"score\": float(s), \"doc_id\": int(i),\n",
        "                       \"label\": label_names[corpus_labels[i]], \"text\": corpus_texts[i]})\n",
        "\n",
        "# Hybrid 루프 안에 추가\n",
        "for k, (i, s) in enumerate(search_hybrid(query, topk=5, alpha=0.6), start=1):\n",
        "    print(f\"- ({s:.3f}) [{label_names[corpus_labels[i]]}] {corpus_texts[i]}\")\n",
        "    rows_hybrid.append({\"rank\": k, \"score\": float(s), \"doc_id\": int(i),\n",
        "                        \"label\": label_names[corpus_labels[i]], \"text\": corpus_texts[i]})\n",
        "\n",
        "# CSV 저장 (각각)\n",
        "out = os.path.join(os.path.abspath(\".\"), \"outputs\"); os.makedirs(out, exist_ok=True)\n",
        "pd.DataFrame(rows_tfidf).to_csv(os.path.join(out, \"tfidf_top5.csv\"), index=False, encoding=\"utf-8\")\n",
        "pd.DataFrame(rows_sbert).to_csv(os.path.join(out, \"sbert_top5.csv\"), index=False, encoding=\"utf-8\")\n",
        "pd.DataFrame(rows_hybrid).to_csv(os.path.join(out, \"hybrid_top5.csv\"), index=False, encoding=\"utf-8\")"
      ]
    },
    {
      "cell_type": "code",
      "execution_count": null,
      "metadata": {},
      "outputs": [
        {
          "name": "stdout",
          "output_type": "stream",
          "text": [
            "\n",
            "[TF-IDF 검색]\n",
            "- (0.188) [Business] Veteran inventor in market float Trevor Baylis, the veteran inventor famous for creating the Freeplay clockwork radio, is planning to float his company on the stock market.\n",
            "- (0.180) [Business] In a Down Market, Head Toward Value Funds There is little cause for celebration in the stock market these days, but investors in value-focused mutual funds have reason to feel a bit smug -- if only because they've lost less than the folks who stuck with growth.\n",
            "- (0.172) [Business] Oil and Economy Cloud Stocks' Outlook (Reuters) Reuters - Soaring crude prices plus worries\\about the economy and the outlook for earnings are expected to\\hang over the stock market next week during the depth of the\\summer doldrums.\n",
            "- (0.172) [Business] Oil and Economy Cloud Stocks' Outlook (Reuters) Reuters - Soaring crude prices plus worries\\about the economy and the outlook for earnings are expected to\\hang over the stock market this week during the depth of the\\summer doldrums.\n",
            "- (0.170) [Business] Oil and Economy Cloud Stocks' Outlook  NEW YORK (Reuters) - Soaring crude prices plus worries  about the economy and the outlook for earnings are expected to  hang over the stock market this week during the depth of the  summer doldrums.\n",
            "\n",
            "[SBERT 검색]\n",
            "- (0.458) [World] Election-Year Rate Hike Puzzles Some WASHINGTON - Going against conventional wisdom, the Federal Reserve is raising interest rates in an election year. And it is Fed Chairman Alan Greenspan, a Republican, who is leading the charge even though an incumbent Republican in the White House is facing voter unrest about the state of the economy...\n",
            "- (0.434) [Business] South Korea lowers interest rates South Korea's central bank cuts interest rates by a quarter percentage point to 3.5 in a bid to drive growth in the economy.\n",
            "- (0.396) [Business] Stocks Higher on Oil Price Relief (Reuters) Reuters - U.S. stocks gained on Monday, getting\\a boost from lower oil prices after news the Venezuelan\\president survived a recall eased fears about the country's oil\\exports.\n",
            "- (0.374) [Business] Will Schwab Reward Patience? The company saw an improvement in its trades, but will this market be kind to the brokerages?\n",
            "- (0.373) [World] Stocks Higher Despite Soaring Oil Prices NEW YORK - Wall Street shifted higher Monday as bargain hunters shrugged off skyrocketing oil prices and bought shares following an upbeat sales report from Wal-Mart Stores and a bright outlook from Lowe's.    The Dow Jones industrial average was up 84.07, or 0.9 percent, at 9,909.42, after edging 0.1 percent higher last week...\n",
            "\n",
            "[Hybrid 검색, alpha=0.6]\n",
            "- (0.298) [World] Election-Year Rate Hike Puzzles Some WASHINGTON - Going against conventional wisdom, the Federal Reserve is raising interest rates in an election year. And it is Fed Chairman Alan Greenspan, a Republican, who is leading the charge even though an incumbent Republican in the White House is facing voter unrest about the state of the economy...\n",
            "- (0.282) [Business] Oil and Economy Cloud Stocks' Outlook (Reuters) Reuters - Soaring crude prices plus worries\\about the economy and the outlook for earnings are expected to\\hang over the stock market next week during the depth of the\\summer doldrums.\n",
            "- (0.279) [Business] Oil and Economy Cloud Stocks' Outlook (Reuters) Reuters - Soaring crude prices plus worries\\about the economy and the outlook for earnings are expected to\\hang over the stock market this week during the depth of the\\summer doldrums.\n",
            "- (0.270) [Business] Oil and Economy Cloud Stocks' Outlook  NEW YORK (Reuters) - Soaring crude prices plus worries  about the economy and the outlook for earnings are expected to  hang over the stock market next week during the depth of the  summer doldrums.\n",
            "- (0.270) [Business] Oil and Economy Cloud Stocks' Outlook  NEW YORK (Reuters) - Soaring crude prices plus worries  about the economy and the outlook for earnings are expected to  hang over the stock market this week during the depth of the  summer doldrums.\n"
          ]
        }
      ],
      "source": [
        "\n",
        "# query = \"What is the impact of interest rate hikes on the stock market?\"\n",
        "\n",
        "# print(\"\\n[TF-IDF 검색]\")\n",
        "# for i, s in search_tfidf(query, topk=5):\n",
        "#     print(f\"- ({s:.3f}) [{label_names[corpus_labels[i]]}] {corpus_texts[i]}\")\n",
        "\n",
        "# print(\"\\n[SBERT 검색]\")\n",
        "# for i, s in search_sbert(query, topk=5):\n",
        "#     print(f\"- ({s:.3f}) [{label_names[corpus_labels[i]]}] {corpus_texts[i]}\")\n",
        "\n",
        "# print(\"\\n[Hybrid 검색, alpha=0.6]\")\n",
        "# for i, s in search_hybrid(query, topk=5, alpha=0.6):\n",
        "#     print(f\"- ({s:.3f}) [{label_names[corpus_labels[i]]}] {corpus_texts[i]}\")\n"
      ]
    },
    {
      "cell_type": "markdown",
      "metadata": {},
      "source": [
        "### 4. 결과 비교: 직관적 성능 분석(토픽/키워드/문맥)\n"
      ]
    },
    {
      "cell_type": "code",
      "execution_count": 22,
      "metadata": {},
      "outputs": [
        {
          "name": "stdout",
          "output_type": "stream",
          "text": [
            "\n",
            "[TF-IDF Top-5]\n",
            " 1. (0.188) [Business] Veteran inventor in market float Trevor Baylis, the veteran inventor famous for creating the Freeplay clockwork radio, is planning to float his company on the stock market.\n",
            " 2. (0.180) [Business] In a Down Market, Head Toward Value Funds There is little cause for celebration in the stock market these days, but investors in value-focused mutual funds have reason to feel a bit smug -- if only because they've lost less than the folks who stuck with growth.\n",
            " 3. (0.172) [Business] Oil and Economy Cloud Stocks' Outlook (Reuters) Reuters - Soaring crude prices plus worries\\about the economy and the outlook for earnings are expected to\\hang over the stock market next week during the depth of the\\summer doldrums.\n",
            " 4. (0.172) [Business] Oil and Economy Cloud Stocks' Outlook (Reuters) Reuters - Soaring crude prices plus worries\\about the economy and the outlook for earnings are expected to\\hang over the stock market this week during the depth of the\\summer doldrums.\n",
            " 5. (0.170) [Business] Oil and Economy Cloud Stocks' Outlook  NEW YORK (Reuters) - Soaring crude prices plus worries  about the economy and the outlook for earnings are expected to  hang over the stock market this week during the depth of the  summer doldrums.\n",
            "\n",
            "[SBERT Top-5]\n",
            " 1. (0.458) [World] Election-Year Rate Hike Puzzles Some WASHINGTON - Going against conventional wisdom, the Federal Reserve is raising interest rates in an election year. And it is Fed Chairman Alan Greenspan, a Republican, who is leading the charge even though an incumbent Republican in the White House is facing voter unrest about the state of the economy...\n",
            " 2. (0.434) [Business] South Korea lowers interest rates South Korea's central bank cuts interest rates by a quarter percentage point to 3.5 in a bid to drive growth in the economy.\n",
            " 3. (0.396) [Business] Stocks Higher on Oil Price Relief (Reuters) Reuters - U.S. stocks gained on Monday, getting\\a boost from lower oil prices after news the Venezuelan\\president survived a recall eased fears about the country's oil\\exports.\n",
            " 4. (0.374) [Business] Will Schwab Reward Patience? The company saw an improvement in its trades, but will this market be kind to the brokerages?\n",
            " 5. (0.373) [World] Stocks Higher Despite Soaring Oil Prices NEW YORK - Wall Street shifted higher Monday as bargain hunters shrugged off skyrocketing oil prices and bought shares following an upbeat sales report from Wal-Mart Stores and a bright outlook from Lowe's.    The Dow Jones industrial average was up 84.07, or 0.9 percent, at 9,909.42, after edging 0.1 percent higher last week...\n",
            "\n",
            "[Hybrid(0.6) Top-5]\n",
            " 1. (0.298) [World] Election-Year Rate Hike Puzzles Some WASHINGTON - Going against conventional wisdom, the Federal Reserve is raising interest rates in an election year. And it is Fed Chairman Alan Greenspan, a Republican, who is leading the charge even though an incumbent Republican in the White House is facing voter unrest about the state of the economy...\n",
            " 2. (0.282) [Business] Oil and Economy Cloud Stocks' Outlook (Reuters) Reuters - Soaring crude prices plus worries\\about the economy and the outlook for earnings are expected to\\hang over the stock market next week during the depth of the\\summer doldrums.\n",
            " 3. (0.279) [Business] Oil and Economy Cloud Stocks' Outlook (Reuters) Reuters - Soaring crude prices plus worries\\about the economy and the outlook for earnings are expected to\\hang over the stock market this week during the depth of the\\summer doldrums.\n",
            " 4. (0.270) [Business] Oil and Economy Cloud Stocks' Outlook  NEW YORK (Reuters) - Soaring crude prices plus worries  about the economy and the outlook for earnings are expected to  hang over the stock market next week during the depth of the  summer doldrums.\n",
            " 5. (0.270) [Business] Oil and Economy Cloud Stocks' Outlook  NEW YORK (Reuters) - Soaring crude prices plus worries  about the economy and the outlook for earnings are expected to  hang over the stock market this week during the depth of the  summer doldrums.\n",
            "\n",
            "[레이블 빈도 비교]\n",
            "TF-IDF {'Business': 5}\n",
            "SBERT {'World': 2, 'Business': 3}\n",
            "Hybrid {'World': 1, 'Business': 4}\n"
          ]
        }
      ],
      "source": [
        "# ------------------------\n",
        "# 비교용 테이블/프린트\n",
        "# ------------------------\n",
        "\n",
        "def show_results(title: str, pairs):\n",
        "    print(f\"\\n[{title}]\")\n",
        "    for rank, (i, s) in enumerate(pairs, start=1):\n",
        "        txt = corpus_texts[i].replace(\"\\n\", \" \")\n",
        "        print(f\"{rank:>2}. ({s:.3f}) [{label_names[corpus_labels[i]]}] {txt}\")\n",
        "\n",
        "r_tfidf = search_tfidf(query, topk=5)\n",
        "r_sbert = search_sbert(query, topk=5)\n",
        "r_hybrid = search_hybrid(query, topk=5, alpha=0.6)\n",
        "\n",
        "show_results(\"TF-IDF Top-5\", r_tfidf)\n",
        "show_results(\"SBERT Top-5\", r_sbert)\n",
        "show_results(\"Hybrid(0.6) Top-5\", r_hybrid)\n",
        "\n",
        "# 간단한 직관 비교 포인트 카운팅(레이블 기준)\n",
        "from collections import Counter\n",
        "\n",
        "def label_counts(pairs):\n",
        "    return Counter([label_names[corpus_labels[i]] for i, _ in pairs])\n",
        "\n",
        "print(\"\\n[레이블 빈도 비교]\")\n",
        "for name, pairs in [(\"TF-IDF\", r_tfidf), (\"SBERT\", r_sbert), (\"Hybrid\", r_hybrid)]:\n",
        "    print(name, dict(label_counts(pairs)))\n",
        "\n",
        "# r_*에서 바로 CSV 저장\n",
        "rows_tfidf  = [{\"rank\": k, \"score\": float(s), \"doc_id\": int(i),\n",
        "                \"label\": label_names[corpus_labels[i]], \"text\": corpus_texts[i]}\n",
        "               for k, (i, s) in enumerate(r_tfidf, start=1)]\n",
        "rows_sbert  = [{\"rank\": k, \"score\": float(s), \"doc_id\": int(i),\n",
        "                \"label\": label_names[corpus_labels[i]], \"text\": corpus_texts[i]}\n",
        "               for k, (i, s) in enumerate(r_sbert, start=1)]\n",
        "rows_hybrid = [{\"rank\": k, \"score\": float(s), \"doc_id\": int(i),\n",
        "                \"label\": label_names[corpus_labels[i]], \"text\": corpus_texts[i]}\n",
        "               for k, (i, s) in enumerate(r_hybrid, start=1)]\n",
        "\n",
        "out = os.path.join(os.path.abspath(\".\"), \"outputs\"); os.makedirs(out, exist_ok=True)\n",
        "pd.DataFrame(rows_tfidf).to_csv(os.path.join(out, \"tfidf_top5_cell14.csv\"), index=False, encoding=\"utf-8\")\n",
        "pd.DataFrame(rows_sbert).to_csv(os.path.join(out, \"sbert_top5_cell14.csv\"), index=False, encoding=\"utf-8\")\n",
        "pd.DataFrame(rows_hybrid).to_csv(os.path.join(out, \"hybrid_top5_cell14.csv\"), index=False, encoding=\"utf-8\")\n"
      ]
    },
    {
      "cell_type": "markdown",
      "metadata": {},
      "source": [
        "### 5. 추가: 하이브리드 가중치/속도/stopwords 영향\n"
      ]
    },
    {
      "cell_type": "code",
      "execution_count": 15,
      "metadata": {},
      "outputs": [
        {
          "name": "stdout",
          "output_type": "stream",
          "text": [
            "alpha=0.0 -> ['Business', 'Business', 'Business', 'Business', 'Business']\n",
            "alpha=0.3 -> ['Business', 'Business', 'Business', 'Business', 'Business']\n",
            "alpha=0.6 -> ['World', 'Business', 'Business', 'Business', 'Business']\n",
            "alpha=0.9 -> ['World', 'Business', 'Business', 'Business', 'Business']\n",
            "alpha=1.0 -> ['World', 'Business', 'Business', 'Business', 'World']\n",
            "[TIME] TF-IDF 질의 시간: 0.00s\n",
            "[TIME] SBERT 질의 시간: 2.20s\n",
            "[TIME] Hybrid(alpha=0.6) 질의 시간: 2.57s\n",
            "[TIME] TF-IDF(no stopwords) fit_transform: 0.25s\n",
            "\n",
            "[TF-IDF(stopwords) vs TF-IDF(raw) 비교]\n",
            "- with stopwords:\n",
            "  (0.188) [Business] Veteran inventor in market float Trevor Baylis, the veteran inventor famous for creating the Freepla...\n",
            "  (0.180) [Business] In a Down Market, Head Toward Value Funds There is little cause for celebration in the stock market ...\n",
            "  (0.172) [Business] Oil and Economy Cloud Stocks' Outlook (Reuters) Reuters - Soaring crude prices plus worries\\about th...\n",
            "- no stopwords:\n",
            "  (0.179) [Business] Hungarian central bank cuts key interest rate by half percentage point (AFP) AFP - The Hungarian cen...\n",
            "  (0.157) [Business] Veteran inventor in market float Trevor Baylis, the veteran inventor famous for creating the Freepla...\n",
            "  (0.132) [Business] Oil and Economy Cloud Stocks' Outlook (Reuters) Reuters - Soaring crude prices plus worries\\about th...\n"
          ]
        }
      ],
      "source": [
        "# ------------------------\n",
        "# 하이브리드 가중치 변화 예시\n",
        "# ------------------------\n",
        "for a in [0.0, 0.3, 0.6, 0.9, 1.0]:\n",
        "    pairs = search_hybrid(query, topk=5, alpha=a)\n",
        "    top_labels = [label_names[corpus_labels[i]] for i, _ in pairs]\n",
        "    print(f\"alpha={a:.1f} -> {top_labels}\")\n",
        "\n",
        "# ------------------------\n",
        "# 속도 비교(간단)\n",
        "# ------------------------\n",
        "with timer(\"TF-IDF 질의 시간\"):\n",
        "    _ = search_tfidf(query, topk=10)\n",
        "with timer(\"SBERT 질의 시간\"):\n",
        "    _ = search_sbert(query, topk=10)\n",
        "with timer(\"Hybrid(alpha=0.6) 질의 시간\"):\n",
        "    _ = search_hybrid(query, topk=10, alpha=0.6)\n",
        "\n",
        "# ------------------------\n",
        "# stopwords 영향: 불용어 제거 on/off 비교\n",
        "# ------------------------\n",
        "alt_vectorizer = TfidfVectorizer(max_features=30000, ngram_range=(1, 2), stop_words=None)\n",
        "with timer(\"TF-IDF(no stopwords) fit_transform\"):\n",
        "    X_tfidf_raw = alt_vectorizer.fit_transform(corpus_texts)\n",
        "\n",
        "def search_tfidf_raw(q: str, topk: int = 5):\n",
        "    qv = alt_vectorizer.transform([q])\n",
        "    sims = cosine_similarity(qv, X_tfidf_raw)[0]\n",
        "    idx = np.argsort(-sims)[:topk]\n",
        "    return [(int(i), float(sims[i])) for i in idx]\n",
        "\n",
        "print(\"\\n[TF-IDF(stopwords) vs TF-IDF(raw) 비교]\")\n",
        "print(\"- with stopwords:\")\n",
        "for i, s in search_tfidf(query, topk=3):\n",
        "    print(f\"  ({s:.3f}) [{label_names[corpus_labels[i]]}] {corpus_texts[i][:100]}...\")\n",
        "print(\"- no stopwords:\")\n",
        "for i, s in search_tfidf_raw(query, topk=3):\n",
        "    print(f\"  ({s:.3f}) [{label_names[corpus_labels[i]]}] {corpus_texts[i][:100]}...\")\n"
      ]
    },
    {
      "cell_type": "markdown",
      "metadata": {},
      "source": [
        "#### 환경 주의사항\n",
        "- CPU 전용: `SentenceTransformer(..., device=\"cpu\")` 고정\n",
        "- 시드 고정: `random.seed`, `np.random.seed`\n",
        "- 한글 폰트: `AppleGothic` (환경에 따라 변경 가능)\n",
        "- 재사용 빠른 실습을 위해 코퍼스 크기를 작게 유지(각 클래스 200)\n"
      ]
    },
    {
      "cell_type": "markdown",
      "metadata": {},
      "source": [
        "\n"
      ]
    },
    {
      "cell_type": "markdown",
      "metadata": {},
      "source": [
        "\n"
      ]
    },
    {
      "cell_type": "markdown",
      "metadata": {},
      "source": [
        "\n"
      ]
    },
    {
      "cell_type": "code",
      "execution_count": null,
      "metadata": {},
      "outputs": [],
      "source": [
        "\n"
      ]
    },
    {
      "cell_type": "markdown",
      "metadata": {},
      "source": [
        "\n"
      ]
    },
    {
      "cell_type": "code",
      "execution_count": null,
      "metadata": {},
      "outputs": [],
      "source": [
        "\n"
      ]
    },
    {
      "cell_type": "markdown",
      "metadata": {},
      "source": [
        "\n"
      ]
    },
    {
      "cell_type": "code",
      "execution_count": null,
      "metadata": {},
      "outputs": [],
      "source": [
        "\n"
      ]
    },
    {
      "cell_type": "markdown",
      "metadata": {},
      "source": [
        "\n"
      ]
    },
    {
      "cell_type": "code",
      "execution_count": null,
      "metadata": {},
      "outputs": [],
      "source": [
        "\n"
      ]
    },
    {
      "cell_type": "markdown",
      "metadata": {},
      "source": [
        "\n"
      ]
    },
    {
      "cell_type": "code",
      "execution_count": null,
      "metadata": {},
      "outputs": [],
      "source": [
        "\n"
      ]
    },
    {
      "cell_type": "markdown",
      "metadata": {},
      "source": [
        "\n"
      ]
    },
    {
      "cell_type": "code",
      "execution_count": null,
      "metadata": {},
      "outputs": [],
      "source": [
        "\n"
      ]
    },
    {
      "cell_type": "code",
      "execution_count": null,
      "metadata": {},
      "outputs": [],
      "source": [
        "\n"
      ]
    },
    {
      "cell_type": "code",
      "execution_count": null,
      "metadata": {},
      "outputs": [],
      "source": [
        "\n"
      ]
    }
  ],
  "metadata": {
    "language_info": {
      "name": "python"
    }
  },
  "nbformat": 4,
  "nbformat_minor": 2
}
